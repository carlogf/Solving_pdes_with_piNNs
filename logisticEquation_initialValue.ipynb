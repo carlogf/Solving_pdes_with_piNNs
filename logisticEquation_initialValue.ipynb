{
 "cells": [
  {
   "cell_type": "markdown",
   "metadata": {},
   "source": [
    "$u_x = u (1-u)$"
   ]
  },
  {
   "cell_type": "code",
   "execution_count": 3,
   "metadata": {},
   "outputs": [
    {
     "name": "stdout",
     "output_type": "stream",
     "text": [
      "---------------------- SCIANN 0.6.7.3 ---------------------- \n",
      "For details, check out our review paper and the documentation at: \n",
      " +  \"https://www.sciencedirect.com/science/article/pii/S0045782520307374\", \n",
      " +  \"https://arxiv.org/abs/2005.08803\", \n",
      " +  \"https://www.sciann.com\". \n",
      "\n",
      " Need support or would like to contribute, please join sciann`s slack group: \n",
      " +  \"https://join.slack.com/t/sciann/shared_invite/zt-ne1f5jlx-k_dY8RGo3ZreDXwz0f~CeA\" \n",
      " \n",
      "TensorFlow Version: 2.9.2 \n",
      "Python Version: 3.8.13 | packaged by conda-forge | (default, Mar 25 2022, 06:04:14) \n",
      "[Clang 12.0.1 ] \n",
      "\n",
      "Outdated SciANN installation is found (V-0.6.7.3). Get the latest version (V-0.6.7.5):  \n",
      "      > pip [--user] install --upgrade sciann  \n"
     ]
    }
   ],
   "source": [
    "#Imports\n",
    "import numpy as np \n",
    "from numpy import pi\n",
    "import matplotlib.pyplot as plt\n",
    "import sciann as sn \n",
    "from sciann_datagenerator import * "
   ]
  },
  {
   "cell_type": "markdown",
   "metadata": {},
   "source": [
    "We are going to solve the logistic equation.If $f$ is the solution of the logistic equation with initial value $x_0$, our function will take two inputs, x_0 and x, and give the value of $f$."
   ]
  },
  {
   "cell_type": "code",
   "execution_count": 4,
   "metadata": {},
   "outputs": [],
   "source": [
    "#voy a hacer la ecuacion logistica en un intervalo en R\n",
    "\n",
    "#armo un intervalo en R, [0,4]. Le voy a poner boundary condition en el borde izquierdo que va a ser el dato inicial\n",
    "\n",
    "dg = DataGeneratorX([0., 4.], [\"domain\", \"bc-left\"], 1000) #, \"bc-right\"]\n",
    "input_data, target_data = dg.get_data()\n",
    "\n",
    "#input_data : los valores de x donde voy a evaluar la u\n",
    "#target_data: Los valores de u(x) para cada x en input_data. Como recien lo inicializo, es vector de ceros.\n",
    "#Se rellena cuando entrenemos la red.\n",
    "\n"
   ]
  },
  {
   "cell_type": "code",
   "execution_count": 32,
   "metadata": {},
   "outputs": [],
   "source": [
    "#dg.target_data"
   ]
  },
  {
   "cell_type": "code",
   "execution_count": 5,
   "metadata": {},
   "outputs": [
    {
     "data": {
      "image/png": "[encoded data removed]",
      "text/plain": [
       "<Figure size 432x288 with 1 Axes>"
      ]
     },
     "metadata": {
      "needs_background": "light"
     },
     "output_type": "display_data"
    }
   ],
   "source": [
    "dg.plot_data()\n",
    "#ploteo mis puntos _collocation points_ que tienen muchos puntos en el borde, al pedo, y  puntos en el intervalo [0,4]\n",
    "#El scatter es solo para que se vea mejor, son todos puntos de R."
   ]
  },
  {
   "cell_type": "code",
   "execution_count": 6,
   "metadata": {},
   "outputs": [],
   "source": [
    "#defino mis funcion y mis variables\n",
    "x = sn.Variable('x')\n",
    "\n",
    "u = sn.Functional('u', [x], hidden_layers = 4*[10], activation = 'tanh', res_net=True) #esta es la red neuronal cruda sin entrenar,\n"
   ]
  },
  {
   "cell_type": "code",
   "execution_count": 7,
   "metadata": {},
   "outputs": [],
   "source": [
    "#ahora defino la loss function para u\n",
    "\n",
    "#Pido que satisfaga la ecuacion\n",
    "L = sn.diff(u, x, order=1) + u * (sn.sub(u,1)) # sacando -1 de factor comun: Ux - u(1-u) = Ux + u (u-1)\n",
    "\n",
    "#Dato inicial u(0) = 2\n",
    "IC = (x==0.) * (sn.abs( sn.sub(u,2)))"
   ]
  },
  {
   "cell_type": "code",
   "execution_count": 8,
   "metadata": {},
   "outputs": [],
   "source": [
    "modelo = sn.SciModel(x,[L,IC], optimizer = 'adam')\n"
   ]
  },
  {
   "cell_type": "code",
   "execution_count": 9,
   "metadata": {},
   "outputs": [
    {
     "name": "stdout",
     "output_type": "stream",
     "text": [
      "\n",
      "Total samples: 1000 \n",
      "Batch size: 64 \n",
      "Total batches: 16 \n",
      "\n",
      "\n",
      "+ NTK evaluation time [s]: 2.883920192718506 \n",
      "\n",
      "+ adaptive_weights at epoch 1: [0.10871661234902084, 1.8912833876509794]\n",
      "Epoch 1/100\n",
      "16/16 [==============================] - 3s 36ms/step - batch: 7.5000 - size: 62.5000 - loss: 7.6328 - add_loss: 0.5946 - mul_2_loss: 4.0022 - lr: 0.0010 - time: 6.0457 - loss_weight_0: 0.1087 - loss_weight_1: 1.8913 - loss_gradient_0: 2560.8856 - loss_gradient_1: 12.7950\n",
      "Epoch 2/100\n",
      "16/16 [==============================] - 0s 13ms/step - batch: 7.5000 - size: 62.5000 - loss: 7.0473 - add_loss: 0.2239 - mul_2_loss: 3.7135 - lr: 0.0010 - time: 0.2468 - loss_weight_0: 0.1087 - loss_weight_1: 1.8913 - loss_gradient_0: 2560.8856 - loss_gradient_1: 12.7950\n",
      "Epoch 3/100\n",
      "16/16 [==============================] - 0s 13ms/step - batch: 7.5000 - size: 62.5000 - loss: 6.5010 - add_loss: 0.2206 - mul_2_loss: 3.4255 - lr: 0.0010 - time: 0.2772 - loss_weight_0: 0.1087 - loss_weight_1: 1.8913 - loss_gradient_0: 2560.8856 - loss_gradient_1: 12.7950\n",
      "Epoch 4/100\n",
      "16/16 [==============================] - 0s 13ms/step - batch: 7.5000 - size: 62.5000 - loss: 5.7886 - add_loss: 0.1955 - mul_2_loss: 3.0478 - lr: 0.0010 - time: 0.2659 - loss_weight_0: 0.1087 - loss_weight_1: 1.8913 - loss_gradient_0: 2560.8856 - loss_gradient_1: 12.7950\n",
      "Epoch 5/100\n",
      "16/16 [==============================] - 0s 13ms/step - batch: 7.5000 - size: 62.5000 - loss: 5.2089 - add_loss: 0.2031 - mul_2_loss: 2.7451 - lr: 0.0010 - time: 0.2702 - loss_weight_0: 0.1087 - loss_weight_1: 1.8913 - loss_gradient_0: 2560.8856 - loss_gradient_1: 12.7950\n",
      "Epoch 6/100\n",
      "16/16 [==============================] - 0s 13ms/step - batch: 7.5000 - size: 62.5000 - loss: 4.2560 - add_loss: 0.2064 - mul_2_loss: 2.2378 - lr: 0.0010 - time: 0.2843 - loss_weight_0: 0.1087 - loss_weight_1: 1.8913 - loss_gradient_0: 2560.8856 - loss_gradient_1: 12.7950\n",
      "Epoch 7/100\n",
      "16/16 [==============================] - 0s 14ms/step - batch: 7.5000 - size: 62.5000 - loss: 3.2441 - add_loss: 0.2427 - mul_2_loss: 1.7008 - lr: 0.0010 - time: 0.2903 - loss_weight_0: 0.1087 - loss_weight_1: 1.8913 - loss_gradient_0: 2560.8856 - loss_gradient_1: 12.7950\n",
      "Epoch 8/100\n",
      "16/16 [==============================] - 0s 13ms/step - batch: 7.5000 - size: 62.5000 - loss: 2.1861 - add_loss: 0.2772 - mul_2_loss: 1.1400 - lr: 0.0010 - time: 0.2747 - loss_weight_0: 0.1087 - loss_weight_1: 1.8913 - loss_gradient_0: 2560.8856 - loss_gradient_1: 12.7950\n",
      "Epoch 9/100\n",
      "16/16 [==============================] - 0s 15ms/step - batch: 7.5000 - size: 62.5000 - loss: 1.1314 - add_loss: 0.2708 - mul_2_loss: 0.5829 - lr: 0.0010 - time: 0.2889 - loss_weight_0: 0.1087 - loss_weight_1: 1.8913 - loss_gradient_0: 2560.8856 - loss_gradient_1: 12.7950\n",
      "Epoch 10/100\n",
      "16/16 [==============================] - 0s 14ms/step - batch: 7.5000 - size: 62.5000 - loss: 0.3706 - add_loss: 0.1112 - mul_2_loss: 0.1895 - lr: 0.0010 - time: 0.2590 - loss_weight_0: 0.1087 - loss_weight_1: 1.8913 - loss_gradient_0: 2560.8856 - loss_gradient_1: 12.7950\n",
      "\n",
      "+ NTK evaluation time [s]: 0.34899091720581055 \n",
      "\n",
      "+ adaptive_weights at epoch 11: [0.07469636461228797, 1.9253036361327702]\n",
      "Epoch 11/100\n",
      "16/16 [==============================] - 0s 13ms/step - batch: 7.5000 - size: 62.5000 - loss: 0.0813 - add_loss: 0.0667 - mul_2_loss: 0.0396 - lr: 0.0010 - time: 0.5658 - loss_weight_0: 0.0747 - loss_weight_1: 1.9253 - loss_gradient_0: 1482.3181 - loss_gradient_1: 57.5520\n",
      "Epoch 12/100\n",
      "16/16 [==============================] - 0s 13ms/step - batch: 7.5000 - size: 62.5000 - loss: 0.0111 - add_loss: 0.0906 - mul_2_loss: 0.0022 - lr: 0.0010 - time: 0.2794 - loss_weight_0: 0.0747 - loss_weight_1: 1.9253 - loss_gradient_0: 1482.3181 - loss_gradient_1: 57.5520\n",
      "Epoch 13/100\n",
      "16/16 [==============================] - 0s 13ms/step - batch: 7.5000 - size: 62.5000 - loss: 0.0070 - add_loss: 0.0907 - mul_2_loss: 1.1123e-04 - lr: 0.0010 - time: 0.2760 - loss_weight_0: 0.0747 - loss_weight_1: 1.9253 - loss_gradient_0: 1482.3181 - loss_gradient_1: 57.5520\n",
      "Epoch 14/100\n",
      "16/16 [==============================] - 0s 13ms/step - batch: 7.5000 - size: 62.5000 - loss: 0.0062 - add_loss: 0.0805 - mul_2_loss: 9.4815e-05 - lr: 0.0010 - time: 0.2657 - loss_weight_0: 0.0747 - loss_weight_1: 1.9253 - loss_gradient_0: 1482.3181 - loss_gradient_1: 57.5520\n",
      "Epoch 15/100\n",
      "16/16 [==============================] - 0s 12ms/step - batch: 7.5000 - size: 62.5000 - loss: 0.0048 - add_loss: 0.0645 - mul_2_loss: 4.7953e-06 - lr: 0.0010 - time: 0.2657 - loss_weight_0: 0.0747 - loss_weight_1: 1.9253 - loss_gradient_0: 1482.3181 - loss_gradient_1: 57.5520\n",
      "Epoch 16/100\n",
      "16/16 [==============================] - 0s 13ms/step - batch: 7.5000 - size: 62.5000 - loss: 0.0045 - add_loss: 0.0597 - mul_2_loss: 2.3483e-05 - lr: 0.0010 - time: 0.2745 - loss_weight_0: 0.0747 - loss_weight_1: 1.9253 - loss_gradient_0: 1482.3181 - loss_gradient_1: 57.5520\n",
      "Epoch 17/100\n",
      "16/16 [==============================] - 0s 13ms/step - batch: 7.5000 - size: 62.5000 - loss: 0.0041 - add_loss: 0.0549 - mul_2_loss: 2.5599e-05 - lr: 0.0010 - time: 0.2653 - loss_weight_0: 0.0747 - loss_weight_1: 1.9253 - loss_gradient_0: 1482.3181 - loss_gradient_1: 57.5520\n",
      "Epoch 18/100\n",
      "16/16 [==============================] - 0s 13ms/step - batch: 7.5000 - size: 62.5000 - loss: 0.0036 - add_loss: 0.0484 - mul_2_loss: 1.6746e-05 - lr: 0.0010 - time: 0.2766 - loss_weight_0: 0.0747 - loss_weight_1: 1.9253 - loss_gradient_0: 1482.3181 - loss_gradient_1: 57.5520\n",
      "Epoch 19/100\n",
      "16/16 [==============================] - 0s 13ms/step - batch: 7.5000 - size: 62.5000 - loss: 0.0033 - add_loss: 0.0444 - mul_2_loss: 1.0462e-05 - lr: 0.0010 - time: 0.2734 - loss_weight_0: 0.0747 - loss_weight_1: 1.9253 - loss_gradient_0: 1482.3181 - loss_gradient_1: 57.5520\n",
      "Epoch 20/100\n",
      "16/16 [==============================] - 0s 13ms/step - batch: 7.5000 - size: 62.5000 - loss: 0.0032 - add_loss: 0.0424 - mul_2_loss: 7.6242e-06 - lr: 0.0010 - time: 0.2722 - loss_weight_0: 0.0747 - loss_weight_1: 1.9253 - loss_gradient_0: 1482.3181 - loss_gradient_1: 57.5520\n",
      "\n",
      "+ NTK evaluation time [s]: 0.320263147354126 \n",
      "\n",
      "+ adaptive_weights at epoch 21: [0.06879865832971563, 1.9312013357098197]\n",
      "Epoch 21/100\n",
      "16/16 [==============================] - 0s 13ms/step - batch: 7.5000 - size: 62.5000 - loss: 0.0026 - add_loss: 0.0378 - mul_2_loss: 8.0377e-06 - lr: 0.0010 - time: 0.5329 - loss_weight_0: 0.0688 - loss_weight_1: 1.9312 - loss_gradient_0: 1697.8175 - loss_gradient_1: 65.2626\n",
      "Epoch 22/100\n",
      "16/16 [==============================] - 0s 14ms/step - batch: 7.5000 - size: 62.5000 - loss: 0.0025 - add_loss: 0.0363 - mul_2_loss: 6.4104e-06 - lr: 0.0010 - time: 0.2827 - loss_weight_0: 0.0688 - loss_weight_1: 1.9312 - loss_gradient_0: 1697.8175 - loss_gradient_1: 65.2626\n",
      "Epoch 23/100\n",
      "16/16 [==============================] - 0s 14ms/step - batch: 7.5000 - size: 62.5000 - loss: 0.0024 - add_loss: 0.0343 - mul_2_loss: 4.9480e-06 - lr: 0.0010 - time: 0.2764 - loss_weight_0: 0.0688 - loss_weight_1: 1.9312 - loss_gradient_0: 1697.8175 - loss_gradient_1: 65.2626\n",
      "Epoch 24/100\n",
      "16/16 [==============================] - 0s 13ms/step - batch: 7.5000 - size: 62.5000 - loss: 0.0022 - add_loss: 0.0317 - mul_2_loss: 5.0163e-06 - lr: 0.0010 - time: 0.2593 - loss_weight_0: 0.0688 - loss_weight_1: 1.9312 - loss_gradient_0: 1697.8175 - loss_gradient_1: 65.2626\n",
      "Epoch 25/100\n",
      "16/16 [==============================] - 0s 13ms/step - batch: 7.5000 - size: 62.5000 - loss: 0.0020 - add_loss: 0.0286 - mul_2_loss: 3.1686e-06 - lr: 0.0010 - time: 0.2735 - loss_weight_0: 0.0688 - loss_weight_1: 1.9312 - loss_gradient_0: 1697.8175 - loss_gradient_1: 65.2626\n",
      "Epoch 26/100\n",
      "16/16 [==============================] - 0s 13ms/step - batch: 7.5000 - size: 62.5000 - loss: 0.0020 - add_loss: 0.0292 - mul_2_loss: 3.7125e-06 - lr: 0.0010 - time: 0.2744 - loss_weight_0: 0.0688 - loss_weight_1: 1.9312 - loss_gradient_0: 1697.8175 - loss_gradient_1: 65.2626\n",
      "Epoch 27/100\n",
      "16/16 [==============================] - 0s 13ms/step - batch: 7.5000 - size: 62.5000 - loss: 0.0017 - add_loss: 0.0243 - mul_2_loss: 4.6235e-06 - lr: 0.0010 - time: 0.2633 - loss_weight_0: 0.0688 - loss_weight_1: 1.9312 - loss_gradient_0: 1697.8175 - loss_gradient_1: 65.2626\n",
      "Epoch 28/100\n",
      "16/16 [==============================] - 0s 13ms/step - batch: 7.5000 - size: 62.5000 - loss: 0.0016 - add_loss: 0.0226 - mul_2_loss: 2.4090e-06 - lr: 0.0010 - time: 0.2853 - loss_weight_0: 0.0688 - loss_weight_1: 1.9312 - loss_gradient_0: 1697.8175 - loss_gradient_1: 65.2626\n",
      "Epoch 29/100\n",
      "16/16 [==============================] - 0s 13ms/step - batch: 7.5000 - size: 62.5000 - loss: 0.0015 - add_loss: 0.0224 - mul_2_loss: 2.0878e-06 - lr: 0.0010 - time: 0.2691 - loss_weight_0: 0.0688 - loss_weight_1: 1.9312 - loss_gradient_0: 1697.8175 - loss_gradient_1: 65.2626\n",
      "Epoch 30/100\n",
      "16/16 [==============================] - 0s 13ms/step - batch: 7.5000 - size: 62.5000 - loss: 0.0014 - add_loss: 0.0201 - mul_2_loss: 2.2365e-06 - lr: 0.0010 - time: 0.2767 - loss_weight_0: 0.0688 - loss_weight_1: 1.9312 - loss_gradient_0: 1697.8175 - loss_gradient_1: 65.2626\n",
      "\n",
      "+ NTK evaluation time [s]: 0.3204689025878906 \n",
      "\n",
      "+ adaptive_weights at epoch 31: [0.08291217082127345, 1.9170878291787266]\n",
      "Epoch 31/100\n",
      "16/16 [==============================] - 0s 13ms/step - batch: 7.5000 - size: 62.5000 - loss: 0.0015 - add_loss: 0.0183 - mul_2_loss: 3.5041e-06 - lr: 0.0010 - time: 0.5386 - loss_weight_0: 0.0829 - loss_weight_1: 1.9171 - loss_gradient_0: 1312.0344 - loss_gradient_1: 65.4904\n",
      "Epoch 32/100\n",
      "16/16 [==============================] - 0s 13ms/step - batch: 7.5000 - size: 62.5000 - loss: 0.0014 - add_loss: 0.0165 - mul_2_loss: 2.4841e-06 - lr: 0.0010 - time: 0.2617 - loss_weight_0: 0.0829 - loss_weight_1: 1.9171 - loss_gradient_0: 1312.0344 - loss_gradient_1: 65.4904\n",
      "Epoch 33/100\n",
      "16/16 [==============================] - 0s 13ms/step - batch: 7.5000 - size: 62.5000 - loss: 0.0013 - add_loss: 0.0154 - mul_2_loss: 2.4235e-06 - lr: 0.0010 - time: 0.2708 - loss_weight_0: 0.0829 - loss_weight_1: 1.9171 - loss_gradient_0: 1312.0344 - loss_gradient_1: 65.4904\n",
      "Epoch 34/100\n",
      "16/16 [==============================] - 0s 13ms/step - batch: 7.5000 - size: 62.5000 - loss: 0.0012 - add_loss: 0.0147 - mul_2_loss: 1.7979e-06 - lr: 0.0010 - time: 0.2693 - loss_weight_0: 0.0829 - loss_weight_1: 1.9171 - loss_gradient_0: 1312.0344 - loss_gradient_1: 65.4904\n",
      "Epoch 35/100\n",
      "16/16 [==============================] - 0s 13ms/step - batch: 7.5000 - size: 62.5000 - loss: 0.0011 - add_loss: 0.0129 - mul_2_loss: 1.6637e-06 - lr: 0.0010 - time: 0.2791 - loss_weight_0: 0.0829 - loss_weight_1: 1.9171 - loss_gradient_0: 1312.0344 - loss_gradient_1: 65.4904\n",
      "Epoch 36/100\n",
      "16/16 [==============================] - 0s 12ms/step - batch: 7.5000 - size: 62.5000 - loss: 9.9711e-04 - add_loss: 0.0120 - mul_2_loss: 2.8026e-06 - lr: 0.0010 - time: 0.2632 - loss_weight_0: 0.0829 - loss_weight_1: 1.9171 - loss_gradient_0: 1312.0344 - loss_gradient_1: 65.4904\n",
      "Epoch 37/100\n",
      "16/16 [==============================] - 0s 13ms/step - batch: 7.5000 - size: 62.5000 - loss: 9.0467e-04 - add_loss: 0.0109 - mul_2_loss: 1.7538e-06 - lr: 0.0010 - time: 0.2829 - loss_weight_0: 0.0829 - loss_weight_1: 1.9171 - loss_gradient_0: 1312.0344 - loss_gradient_1: 65.4904\n",
      "Epoch 38/100\n",
      "16/16 [==============================] - 0s 13ms/step - batch: 7.5000 - size: 62.5000 - loss: 8.7059e-04 - add_loss: 0.0105 - mul_2_loss: 8.3502e-07 - lr: 0.0010 - time: 0.2649 - loss_weight_0: 0.0829 - loss_weight_1: 1.9171 - loss_gradient_0: 1312.0344 - loss_gradient_1: 65.4904\n",
      "Epoch 39/100\n",
      "16/16 [==============================] - 0s 13ms/step - batch: 7.5000 - size: 62.5000 - loss: 7.7296e-04 - add_loss: 0.0093 - mul_2_loss: 1.6754e-06 - lr: 0.0010 - time: 0.2700 - loss_weight_0: 0.0829 - loss_weight_1: 1.9171 - loss_gradient_0: 1312.0344 - loss_gradient_1: 65.4904\n",
      "Epoch 40/100\n",
      "16/16 [==============================] - 0s 13ms/step - batch: 7.5000 - size: 62.5000 - loss: 7.1162e-04 - add_loss: 0.0086 - mul_2_loss: 1.0010e-06 - lr: 0.0010 - time: 0.2738 - loss_weight_0: 0.0829 - loss_weight_1: 1.9171 - loss_gradient_0: 1312.0344 - loss_gradient_1: 65.4904\n",
      "\n",
      "+ NTK evaluation time [s]: 0.3211839199066162 \n",
      "\n",
      "+ adaptive_weights at epoch 41: [0.0996328054746623, 1.9003671908000475]\n",
      "Epoch 41/100\n",
      "16/16 [==============================] - 0s 13ms/step - batch: 7.5000 - size: 62.5000 - loss: 8.1746e-04 - add_loss: 0.0082 - mul_2_loss: 1.1016e-06 - lr: 0.0010 - time: 0.5269 - loss_weight_0: 0.0996 - loss_weight_1: 1.9004 - loss_gradient_0: 1059.0509 - loss_gradient_1: 65.6839\n",
      "Epoch 42/100\n",
      "16/16 [==============================] - 0s 13ms/step - batch: 7.5000 - size: 62.5000 - loss: 7.5824e-04 - add_loss: 0.0076 - mul_2_loss: 1.8634e-06 - lr: 0.0010 - time: 0.2780 - loss_weight_0: 0.0996 - loss_weight_1: 1.9004 - loss_gradient_0: 1059.0509 - loss_gradient_1: 65.6839\n",
      "Epoch 43/100\n",
      "16/16 [==============================] - 0s 13ms/step - batch: 7.5000 - size: 62.5000 - loss: 6.5634e-04 - add_loss: 0.0066 - mul_2_loss: 1.8325e-06 - lr: 0.0010 - time: 0.2682 - loss_weight_0: 0.0996 - loss_weight_1: 1.9004 - loss_gradient_0: 1059.0509 - loss_gradient_1: 65.6839\n",
      "Epoch 44/100\n",
      "16/16 [==============================] - 0s 13ms/step - batch: 7.5000 - size: 62.5000 - loss: 5.9470e-04 - add_loss: 0.0060 - mul_2_loss: 6.0733e-07 - lr: 0.0010 - time: 0.2742 - loss_weight_0: 0.0996 - loss_weight_1: 1.9004 - loss_gradient_0: 1059.0509 - loss_gradient_1: 65.6839\n",
      "Epoch 45/100\n",
      "16/16 [==============================] - 0s 13ms/step - batch: 7.5000 - size: 62.5000 - loss: 5.2630e-04 - add_loss: 0.0053 - mul_2_loss: 5.5223e-07 - lr: 0.0010 - time: 0.2712 - loss_weight_0: 0.0996 - loss_weight_1: 1.9004 - loss_gradient_0: 1059.0509 - loss_gradient_1: 65.6839\n",
      "Epoch 46/100\n",
      "16/16 [==============================] - 0s 13ms/step - batch: 7.5000 - size: 62.5000 - loss: 5.1887e-04 - add_loss: 0.0052 - mul_2_loss: 1.8231e-06 - lr: 0.0010 - time: 0.2732 - loss_weight_0: 0.0996 - loss_weight_1: 1.9004 - loss_gradient_0: 1059.0509 - loss_gradient_1: 65.6839\n",
      "Epoch 47/100\n",
      "16/16 [==============================] - 0s 13ms/step - batch: 7.5000 - size: 62.5000 - loss: 4.3829e-04 - add_loss: 0.0044 - mul_2_loss: 8.1229e-07 - lr: 0.0010 - time: 0.2676 - loss_weight_0: 0.0996 - loss_weight_1: 1.9004 - loss_gradient_0: 1059.0509 - loss_gradient_1: 65.6839\n",
      "Epoch 48/100\n",
      "16/16 [==============================] - 0s 13ms/step - batch: 7.5000 - size: 62.5000 - loss: 4.1204e-04 - add_loss: 0.0041 - mul_2_loss: 4.7738e-07 - lr: 0.0010 - time: 0.2708 - loss_weight_0: 0.0996 - loss_weight_1: 1.9004 - loss_gradient_0: 1059.0509 - loss_gradient_1: 65.6839\n",
      "Epoch 49/100\n",
      "16/16 [==============================] - 0s 13ms/step - batch: 7.5000 - size: 62.5000 - loss: 3.6915e-04 - add_loss: 0.0037 - mul_2_loss: 7.6375e-07 - lr: 0.0010 - time: 0.2648 - loss_weight_0: 0.0996 - loss_weight_1: 1.9004 - loss_gradient_0: 1059.0509 - loss_gradient_1: 65.6839\n",
      "Epoch 50/100\n",
      "16/16 [==============================] - 0s 13ms/step - batch: 7.5000 - size: 62.5000 - loss: 3.4009e-04 - add_loss: 0.0034 - mul_2_loss: 3.8844e-07 - lr: 0.0010 - time: 0.2702 - loss_weight_0: 0.0996 - loss_weight_1: 1.9004 - loss_gradient_0: 1059.0509 - loss_gradient_1: 65.6839\n",
      "\n",
      "+ NTK evaluation time [s]: 0.3158152103424072 \n",
      "\n",
      "+ adaptive_weights at epoch 51: [0.1158272335434598, 1.884172761241134]\n",
      "Epoch 51/100\n",
      "16/16 [==============================] - 0s 13ms/step - batch: 7.5000 - size: 62.5000 - loss: 3.6640e-04 - add_loss: 0.0031 - mul_2_loss: 6.8433e-07 - lr: 0.0010 - time: 0.5211 - loss_weight_0: 0.1158 - loss_weight_1: 1.8842 - loss_gradient_0: 898.1576 - loss_gradient_1: 65.8412\n",
      "Epoch 52/100\n",
      "16/16 [==============================] - 0s 13ms/step - batch: 7.5000 - size: 62.5000 - loss: 3.4638e-04 - add_loss: 0.0030 - mul_2_loss: 7.4074e-07 - lr: 0.0010 - time: 0.2747 - loss_weight_0: 0.1158 - loss_weight_1: 1.8842 - loss_gradient_0: 898.1576 - loss_gradient_1: 65.8412\n",
      "Epoch 53/100\n",
      "16/16 [==============================] - 0s 13ms/step - batch: 7.5000 - size: 62.5000 - loss: 3.0525e-04 - add_loss: 0.0026 - mul_2_loss: 3.2354e-07 - lr: 0.0010 - time: 0.2629 - loss_weight_0: 0.1158 - loss_weight_1: 1.8842 - loss_gradient_0: 898.1576 - loss_gradient_1: 65.8412\n",
      "Epoch 54/100\n",
      "16/16 [==============================] - 0s 12ms/step - batch: 7.5000 - size: 62.5000 - loss: 2.8187e-04 - add_loss: 0.0024 - mul_2_loss: 3.2192e-07 - lr: 0.0010 - time: 0.2703 - loss_weight_0: 0.1158 - loss_weight_1: 1.8842 - loss_gradient_0: 898.1576 - loss_gradient_1: 65.8412\n",
      "Epoch 55/100\n",
      "16/16 [==============================] - 0s 13ms/step - batch: 7.5000 - size: 62.5000 - loss: 2.6457e-04 - add_loss: 0.0023 - mul_2_loss: 6.0248e-07 - lr: 0.0010 - time: 0.2689 - loss_weight_0: 0.1158 - loss_weight_1: 1.8842 - loss_gradient_0: 898.1576 - loss_gradient_1: 65.8412\n",
      "Epoch 56/100\n",
      "16/16 [==============================] - 0s 13ms/step - batch: 7.5000 - size: 62.5000 - loss: 2.3935e-04 - add_loss: 0.0021 - mul_2_loss: 1.6118e-07 - lr: 0.0010 - time: 0.2736 - loss_weight_0: 0.1158 - loss_weight_1: 1.8842 - loss_gradient_0: 898.1576 - loss_gradient_1: 65.8412\n",
      "Epoch 57/100\n",
      "16/16 [==============================] - 0s 13ms/step - batch: 7.5000 - size: 62.5000 - loss: 2.3026e-04 - add_loss: 0.0020 - mul_2_loss: 1.8633e-07 - lr: 0.0010 - time: 0.2709 - loss_weight_0: 0.1158 - loss_weight_1: 1.8842 - loss_gradient_0: 898.1576 - loss_gradient_1: 65.8412\n",
      "Epoch 58/100\n",
      "16/16 [==============================] - 0s 13ms/step - batch: 7.5000 - size: 62.5000 - loss: 2.2077e-04 - add_loss: 0.0019 - mul_2_loss: 5.5195e-07 - lr: 0.0010 - time: 0.2720 - loss_weight_0: 0.1158 - loss_weight_1: 1.8842 - loss_gradient_0: 898.1576 - loss_gradient_1: 65.8412\n",
      "Epoch 59/100\n",
      "16/16 [==============================] - 0s 13ms/step - batch: 7.5000 - size: 62.5000 - loss: 1.9577e-04 - add_loss: 0.0017 - mul_2_loss: 1.7075e-07 - lr: 0.0010 - time: 0.2772 - loss_weight_0: 0.1158 - loss_weight_1: 1.8842 - loss_gradient_0: 898.1576 - loss_gradient_1: 65.8412\n",
      "Epoch 60/100\n",
      "16/16 [==============================] - 0s 13ms/step - batch: 7.5000 - size: 62.5000 - loss: 1.8178e-04 - add_loss: 0.0016 - mul_2_loss: 1.4104e-07 - lr: 0.0010 - time: 0.2788 - loss_weight_0: 0.1158 - loss_weight_1: 1.8842 - loss_gradient_0: 898.1576 - loss_gradient_1: 65.8412\n",
      "\n",
      "+ NTK evaluation time [s]: 0.3170051574707031 \n",
      "\n",
      "+ adaptive_weights at epoch 61: [0.1268353696297231, 1.873164633350509]\n",
      "Epoch 61/100\n",
      "16/16 [==============================] - 0s 13ms/step - batch: 7.5000 - size: 62.5000 - loss: 1.8811e-04 - add_loss: 0.0015 - mul_2_loss: 2.4589e-07 - lr: 0.0010 - time: 0.5223 - loss_weight_0: 0.1268 - loss_weight_1: 1.8732 - loss_gradient_0: 816.6056 - loss_gradient_1: 65.9486\n",
      "Epoch 62/100\n",
      "16/16 [==============================] - 0s 13ms/step - batch: 7.5000 - size: 62.5000 - loss: 1.7652e-04 - add_loss: 0.0014 - mul_2_loss: 1.4935e-07 - lr: 0.0010 - time: 0.2806 - loss_weight_0: 0.1268 - loss_weight_1: 1.8732 - loss_gradient_0: 816.6056 - loss_gradient_1: 65.9486\n",
      "Epoch 63/100\n",
      "16/16 [==============================] - 0s 13ms/step - batch: 7.5000 - size: 62.5000 - loss: 1.7091e-04 - add_loss: 0.0013 - mul_2_loss: 1.5440e-07 - lr: 0.0010 - time: 0.2666 - loss_weight_0: 0.1268 - loss_weight_1: 1.8732 - loss_gradient_0: 816.6056 - loss_gradient_1: 65.9486\n",
      "Epoch 64/100\n",
      "16/16 [==============================] - 0s 13ms/step - batch: 7.5000 - size: 62.5000 - loss: 1.5762e-04 - add_loss: 0.0012 - mul_2_loss: 1.1548e-07 - lr: 0.0010 - time: 0.2674 - loss_weight_0: 0.1268 - loss_weight_1: 1.8732 - loss_gradient_0: 816.6056 - loss_gradient_1: 65.9486\n",
      "Epoch 65/100\n",
      "16/16 [==============================] - 0s 13ms/step - batch: 7.5000 - size: 62.5000 - loss: 1.5061e-04 - add_loss: 0.0012 - mul_2_loss: 2.5521e-07 - lr: 0.0010 - time: 0.2714 - loss_weight_0: 0.1268 - loss_weight_1: 1.8732 - loss_gradient_0: 816.6056 - loss_gradient_1: 65.9486\n",
      "Epoch 66/100\n",
      "16/16 [==============================] - 0s 13ms/step - batch: 7.5000 - size: 62.5000 - loss: 1.4039e-04 - add_loss: 0.0011 - mul_2_loss: 4.3382e-08 - lr: 0.0010 - time: 0.2779 - loss_weight_0: 0.1268 - loss_weight_1: 1.8732 - loss_gradient_0: 816.6056 - loss_gradient_1: 65.9486\n",
      "Epoch 67/100\n",
      "16/16 [==============================] - 0s 13ms/step - batch: 7.5000 - size: 62.5000 - loss: 1.3939e-04 - add_loss: 0.0011 - mul_2_loss: 2.8147e-07 - lr: 0.0010 - time: 0.2660 - loss_weight_0: 0.1268 - loss_weight_1: 1.8732 - loss_gradient_0: 816.6056 - loss_gradient_1: 65.9486\n",
      "Epoch 68/100\n",
      "16/16 [==============================] - 0s 13ms/step - batch: 7.5000 - size: 62.5000 - loss: 1.2714e-04 - add_loss: 0.0010 - mul_2_loss: 4.8755e-08 - lr: 0.0010 - time: 0.2738 - loss_weight_0: 0.1268 - loss_weight_1: 1.8732 - loss_gradient_0: 816.6056 - loss_gradient_1: 65.9486\n",
      "Epoch 69/100\n",
      "16/16 [==============================] - 0s 13ms/step - batch: 7.5000 - size: 62.5000 - loss: 1.2909e-04 - add_loss: 0.0010 - mul_2_loss: 2.3033e-07 - lr: 0.0010 - time: 0.2693 - loss_weight_0: 0.1268 - loss_weight_1: 1.8732 - loss_gradient_0: 816.6056 - loss_gradient_1: 65.9486\n",
      "Epoch 70/100\n",
      "16/16 [==============================] - 0s 13ms/step - batch: 7.5000 - size: 62.5000 - loss: 1.1496e-04 - add_loss: 9.0437e-04 - mul_2_loss: 6.4607e-08 - lr: 0.0010 - time: 0.2693 - loss_weight_0: 0.1268 - loss_weight_1: 1.8732 - loss_gradient_0: 816.6056 - loss_gradient_1: 65.9486\n",
      "\n",
      "+ NTK evaluation time [s]: 0.3145918846130371 \n",
      "\n",
      "+ adaptive_weights at epoch 71: [0.1333044037988874, 1.8666955991813448]\n",
      "Epoch 71/100\n",
      "16/16 [==============================] - 0s 13ms/step - batch: 7.5000 - size: 62.5000 - loss: 1.1692e-04 - add_loss: 8.7502e-04 - mul_2_loss: 8.8121e-08 - lr: 0.0010 - time: 0.5258 - loss_weight_0: 0.1333 - loss_weight_1: 1.8667 - loss_gradient_0: 777.7059 - loss_gradient_1: 66.0182\n",
      "Epoch 72/100\n",
      "16/16 [==============================] - 0s 13ms/step - batch: 7.5000 - size: 62.5000 - loss: 1.1481e-04 - add_loss: 8.5846e-04 - mul_2_loss: 1.8765e-07 - lr: 0.0010 - time: 0.2710 - loss_weight_0: 0.1333 - loss_weight_1: 1.8667 - loss_gradient_0: 777.7059 - loss_gradient_1: 66.0182\n",
      "Epoch 73/100\n",
      "16/16 [==============================] - 0s 14ms/step - batch: 7.5000 - size: 62.5000 - loss: 1.0978e-04 - add_loss: 8.2250e-04 - mul_2_loss: 9.1888e-09 - lr: 0.0010 - time: 0.2883 - loss_weight_0: 0.1333 - loss_weight_1: 1.8667 - loss_gradient_0: 777.7059 - loss_gradient_1: 66.0182\n",
      "Epoch 74/100\n",
      "16/16 [==============================] - 0s 13ms/step - batch: 7.5000 - size: 62.5000 - loss: 1.0820e-04 - add_loss: 8.0906e-04 - mul_2_loss: 1.8755e-07 - lr: 0.0010 - time: 0.2567 - loss_weight_0: 0.1333 - loss_weight_1: 1.8667 - loss_gradient_0: 777.7059 - loss_gradient_1: 66.0182\n",
      "Epoch 75/100\n",
      "16/16 [==============================] - 0s 13ms/step - batch: 7.5000 - size: 62.5000 - loss: 9.8472e-05 - add_loss: 7.3763e-04 - mul_2_loss: 1.9373e-08 - lr: 0.0010 - time: 0.2720 - loss_weight_0: 0.1333 - loss_weight_1: 1.8667 - loss_gradient_0: 777.7059 - loss_gradient_1: 66.0182\n",
      "Epoch 76/100\n",
      "16/16 [==============================] - 0s 13ms/step - batch: 7.5000 - size: 62.5000 - loss: 9.4830e-05 - add_loss: 7.0987e-04 - mul_2_loss: 5.9442e-08 - lr: 0.0010 - time: 0.2726 - loss_weight_0: 0.1333 - loss_weight_1: 1.8667 - loss_gradient_0: 777.7059 - loss_gradient_1: 66.0182\n",
      "Epoch 77/100\n",
      "16/16 [==============================] - 0s 14ms/step - batch: 7.5000 - size: 62.5000 - loss: 9.5427e-05 - add_loss: 7.1350e-04 - mul_2_loss: 1.7589e-07 - lr: 0.0010 - time: 0.2930 - loss_weight_0: 0.1333 - loss_weight_1: 1.8667 - loss_gradient_0: 777.7059 - loss_gradient_1: 66.0182\n",
      "Epoch 78/100\n",
      "16/16 [==============================] - 0s 13ms/step - batch: 7.5000 - size: 62.5000 - loss: 9.2872e-05 - add_loss: 6.9753e-04 - mul_2_loss: 1.5766e-08 - lr: 0.0010 - time: 0.2636 - loss_weight_0: 0.1333 - loss_weight_1: 1.8667 - loss_gradient_0: 777.7059 - loss_gradient_1: 66.0182\n",
      "Epoch 79/100\n",
      "16/16 [==============================] - 0s 13ms/step - batch: 7.5000 - size: 62.5000 - loss: 8.5976e-05 - add_loss: 6.4398e-04 - mul_2_loss: 3.5536e-08 - lr: 0.0010 - time: 0.2843 - loss_weight_0: 0.1333 - loss_weight_1: 1.8667 - loss_gradient_0: 777.7059 - loss_gradient_1: 66.0182\n",
      "Epoch 80/100\n",
      "16/16 [==============================] - 0s 13ms/step - batch: 7.5000 - size: 62.5000 - loss: 8.7507e-05 - add_loss: 6.5509e-04 - mul_2_loss: 1.6495e-07 - lr: 0.0010 - time: 0.2671 - loss_weight_0: 0.1333 - loss_weight_1: 1.8667 - loss_gradient_0: 777.7059 - loss_gradient_1: 66.0182\n",
      "\n",
      "+ NTK evaluation time [s]: 0.31870222091674805 \n",
      "\n",
      "+ adaptive_weights at epoch 81: [0.13474183401381948, 1.8652581704565288]\n",
      "Epoch 81/100\n",
      "16/16 [==============================] - 0s 13ms/step - batch: 7.5000 - size: 62.5000 - loss: 8.9210e-05 - add_loss: 6.6477e-04 - mul_2_loss: 1.0043e-08 - lr: 0.0010 - time: 0.5244 - loss_weight_0: 0.1347 - loss_weight_1: 1.8653 - loss_gradient_0: 770.9305 - loss_gradient_1: 66.0480\n",
      "Epoch 82/100\n",
      "16/16 [==============================] - 0s 13ms/step - batch: 7.5000 - size: 62.5000 - loss: 7.6554e-05 - add_loss: 5.6661e-04 - mul_2_loss: 6.4414e-08 - lr: 0.0010 - time: 0.2683 - loss_weight_0: 0.1347 - loss_weight_1: 1.8653 - loss_gradient_0: 770.9305 - loss_gradient_1: 66.0480\n",
      "Epoch 83/100\n",
      "16/16 [==============================] - 0s 13ms/step - batch: 7.5000 - size: 62.5000 - loss: 7.6328e-05 - add_loss: 5.6608e-04 - mul_2_loss: 4.4976e-08 - lr: 0.0010 - time: 0.2694 - loss_weight_0: 0.1347 - loss_weight_1: 1.8653 - loss_gradient_0: 770.9305 - loss_gradient_1: 66.0480\n",
      "Epoch 84/100\n",
      "16/16 [==============================] - 0s 13ms/step - batch: 7.5000 - size: 62.5000 - loss: 7.1483e-05 - add_loss: 5.2984e-04 - mul_2_loss: 5.0991e-09 - lr: 0.0010 - time: 0.2795 - loss_weight_0: 0.1347 - loss_weight_1: 1.8653 - loss_gradient_0: 770.9305 - loss_gradient_1: 66.0480\n",
      "Epoch 85/100\n",
      "16/16 [==============================] - 0s 13ms/step - batch: 7.5000 - size: 62.5000 - loss: 7.0277e-05 - add_loss: 5.2059e-04 - mul_2_loss: 2.9433e-08 - lr: 0.0010 - time: 0.2755 - loss_weight_0: 0.1347 - loss_weight_1: 1.8653 - loss_gradient_0: 770.9305 - loss_gradient_1: 66.0480\n",
      "Epoch 86/100\n",
      "16/16 [==============================] - 0s 13ms/step - batch: 7.5000 - size: 62.5000 - loss: 7.1281e-05 - add_loss: 5.2895e-04 - mul_2_loss: 2.0060e-08 - lr: 0.0010 - time: 0.2730 - loss_weight_0: 0.1347 - loss_weight_1: 1.8653 - loss_gradient_0: 770.9305 - loss_gradient_1: 66.0480\n",
      "Epoch 87/100\n",
      "16/16 [==============================] - 0s 13ms/step - batch: 7.5000 - size: 62.5000 - loss: 6.6720e-05 - add_loss: 4.9364e-04 - mul_2_loss: 7.0044e-08 - lr: 0.0010 - time: 0.2746 - loss_weight_0: 0.1347 - loss_weight_1: 1.8653 - loss_gradient_0: 770.9305 - loss_gradient_1: 66.0480\n",
      "Epoch 88/100\n",
      "16/16 [==============================] - 0s 13ms/step - batch: 7.5000 - size: 62.5000 - loss: 6.5367e-05 - add_loss: 4.8449e-04 - mul_2_loss: 7.1386e-09 - lr: 0.0010 - time: 0.2719 - loss_weight_0: 0.1347 - loss_weight_1: 1.8653 - loss_gradient_0: 770.9305 - loss_gradient_1: 66.0480\n",
      "Epoch 89/100\n",
      "16/16 [==============================] - 0s 13ms/step - batch: 7.5000 - size: 62.5000 - loss: 6.5069e-05 - add_loss: 4.8227e-04 - mul_2_loss: 6.6164e-08 - lr: 0.0010 - time: 0.2694 - loss_weight_0: 0.1347 - loss_weight_1: 1.8653 - loss_gradient_0: 770.9305 - loss_gradient_1: 66.0480\n",
      "Epoch 90/100\n",
      "16/16 [==============================] - 0s 13ms/step - batch: 7.5000 - size: 62.5000 - loss: 6.3394e-05 - add_loss: 4.7121e-04 - mul_2_loss: 1.8052e-08 - lr: 0.0010 - time: 0.2735 - loss_weight_0: 0.1347 - loss_weight_1: 1.8653 - loss_gradient_0: 770.9305 - loss_gradient_1: 66.0480\n",
      "\n",
      "+ NTK evaluation time [s]: 0.32298970222473145 \n",
      "\n",
      "+ adaptive_weights at epoch 91: [0.13567124270634612, 1.8643287617640023]\n",
      "Epoch 91/100\n",
      "16/16 [==============================] - 0s 13ms/step - batch: 7.5000 - size: 62.5000 - loss: 6.0642e-05 - add_loss: 4.4653e-04 - mul_2_loss: 4.0998e-08 - lr: 0.0010 - time: 0.5396 - loss_weight_0: 0.1357 - loss_weight_1: 1.8643 - loss_gradient_0: 765.9173 - loss_gradient_1: 66.0655\n",
      "Epoch 92/100\n",
      "16/16 [==============================] - 0s 13ms/step - batch: 7.5000 - size: 62.5000 - loss: 5.9536e-05 - add_loss: 4.3847e-04 - mul_2_loss: 4.6273e-08 - lr: 0.0010 - time: 0.2645 - loss_weight_0: 0.1357 - loss_weight_1: 1.8643 - loss_gradient_0: 765.9173 - loss_gradient_1: 66.0655\n",
      "Epoch 93/100\n",
      "16/16 [==============================] - 0s 13ms/step - batch: 7.5000 - size: 62.5000 - loss: 5.5346e-05 - add_loss: 4.0735e-04 - mul_2_loss: 1.0842e-08 - lr: 0.0010 - time: 0.2706 - loss_weight_0: 0.1357 - loss_weight_1: 1.8643 - loss_gradient_0: 765.9173 - loss_gradient_1: 66.0655\n",
      "Epoch 94/100\n",
      "16/16 [==============================] - 0s 13ms/step - batch: 7.5000 - size: 62.5000 - loss: 5.3679e-05 - add_loss: 3.9513e-04 - mul_2_loss: 9.8966e-09 - lr: 0.0010 - time: 0.2703 - loss_weight_0: 0.1357 - loss_weight_1: 1.8643 - loss_gradient_0: 765.9173 - loss_gradient_1: 66.0655\n",
      "Epoch 95/100\n",
      "16/16 [==============================] - 0s 13ms/step - batch: 7.5000 - size: 62.5000 - loss: 5.3058e-05 - add_loss: 3.9126e-04 - mul_2_loss: 1.0635e-09 - lr: 0.0010 - time: 0.2771 - loss_weight_0: 0.1357 - loss_weight_1: 1.8643 - loss_gradient_0: 765.9173 - loss_gradient_1: 66.0655\n",
      "Epoch 96/100\n",
      "16/16 [==============================] - 0s 13ms/step - batch: 7.5000 - size: 62.5000 - loss: 5.1456e-05 - add_loss: 3.7802e-04 - mul_2_loss: 5.6187e-08 - lr: 0.0010 - time: 0.2706 - loss_weight_0: 0.1357 - loss_weight_1: 1.8643 - loss_gradient_0: 765.9173 - loss_gradient_1: 66.0655\n",
      "Epoch 97/100\n",
      "16/16 [==============================] - 0s 13ms/step - batch: 7.5000 - size: 62.5000 - loss: 4.9872e-05 - add_loss: 3.6700e-04 - mul_2_loss: 9.7301e-09 - lr: 0.0010 - time: 0.2701 - loss_weight_0: 0.1357 - loss_weight_1: 1.8643 - loss_gradient_0: 765.9173 - loss_gradient_1: 66.0655\n",
      "Epoch 98/100\n",
      "16/16 [==============================] - 0s 13ms/step - batch: 7.5000 - size: 62.5000 - loss: 4.9566e-05 - add_loss: 3.6481e-04 - mul_2_loss: 4.8847e-08 - lr: 0.0010 - time: 0.2723 - loss_weight_0: 0.1357 - loss_weight_1: 1.8643 - loss_gradient_0: 765.9173 - loss_gradient_1: 66.0655\n",
      "Epoch 99/100\n",
      "16/16 [==============================] - 0s 13ms/step - batch: 7.5000 - size: 62.5000 - loss: 4.6198e-05 - add_loss: 3.4001e-04 - mul_2_loss: 5.9751e-09 - lr: 0.0010 - time: 0.2719 - loss_weight_0: 0.1357 - loss_weight_1: 1.8643 - loss_gradient_0: 765.9173 - loss_gradient_1: 66.0655\n",
      "Epoch 100/100\n",
      "16/16 [==============================] - 0s 13ms/step - batch: 7.5000 - size: 62.5000 - loss: 4.7064e-05 - add_loss: 3.4651e-04 - mul_2_loss: 7.0917e-09 - lr: 0.0010 - time: 0.2672 - loss_weight_0: 0.1357 - loss_weight_1: 1.8643 - loss_gradient_0: 765.9173 - loss_gradient_1: 66.0655\n"
     ]
    }
   ],
   "source": [
    "history = modelo.train(x_true = input_data, \n",
    "             y_true = target_data, \n",
    "             epochs = 100,\n",
    "             learning_rate = 0.001,\n",
    "             adaptive_weights={'method': 'NTK', 'freq':10, 'use_score':True})"
   ]
  },
  {
   "cell_type": "code",
   "execution_count": 10,
   "metadata": {},
   "outputs": [],
   "source": [
    "valores = np.arange(0,4,0.001)\n",
    "valores_y = u.eval(valores)"
   ]
  },
  {
   "cell_type": "code",
   "execution_count": 11,
   "metadata": {},
   "outputs": [
    {
     "data": {
      "text/plain": [
       "[<matplotlib.lines.Line2D at 0x293817100>]"
      ]
     },
     "execution_count": 11,
     "metadata": {},
     "output_type": "execute_result"
    },
    {
     "data": {
      "image/png": "[encoded data removed]",
      "text/plain": [
       "<Figure size 432x288 with 1 Axes>"
      ]
     },
     "metadata": {
      "needs_background": "light"
     },
     "output_type": "display_data"
    }
   ],
   "source": [
    "plt.plot(valores,valores_y)\n",
    "plt.xlim([0,4])\n",
    "plt.ylim([0,2])\n",
    "plt.plot([0,4],[1,1],'--r')"
   ]
  },
  {
   "cell_type": "markdown",
   "metadata": {},
   "source": [
    "$u_t = Lap (u) + u(1-u/k)$\n",
    "\n",
    "u(x,t) = proporcion de gente en x a tiempo t"
   ]
  }
 ],
 "metadata": {
  "interpreter": {
   "hash": "cc1a59755133be37aed3275e273373396613f2c8540949455ec1d88e7c33edcf"
  },
  "kernelspec": {
   "display_name": "Python 3.8.13",
   "language": "python",
   "name": "python3"
  },
  "language_info": {
   "codemirror_mode": {
    "name": "ipython",
    "version": 3
   },
   "file_extension": ".py",
   "mimetype": "text/x-python",
   "name": "python",
   "nbconvert_exporter": "python",
   "pygments_lexer": "ipython3",
   "version": "3.8.13"
  },
  "orig_nbformat": 4,
  "vscode": {
   "interpreter": {
    "hash": "04995ff6e01981977325a4dca113d3298b00de2eefdcaf3870cb66211add4c70"
   }
  }
 },
 "nbformat": 4,
 "nbformat_minor": 2
}
