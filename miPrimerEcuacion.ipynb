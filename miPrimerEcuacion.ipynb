{
 "cells": [
  {
   "cell_type": "markdown",
   "metadata": {},
   "source": [
    "$u_x = u (1-u)$"
   ]
  },
  {
   "cell_type": "code",
   "execution_count": 2,
   "metadata": {},
   "outputs": [
    {
     "name": "stdout",
     "output_type": "stream",
     "text": [
      "---------------------- SCIANN 0.6.7.3 ---------------------- \n",
      "For details, check out our review paper and the documentation at: \n",
      " +  \"https://www.sciencedirect.com/science/article/pii/S0045782520307374\", \n",
      " +  \"https://arxiv.org/abs/2005.08803\", \n",
      " +  \"https://www.sciann.com\". \n",
      "\n",
      " Need support or would like to contribute, please join sciann`s slack group: \n",
      " +  \"https://join.slack.com/t/sciann/shared_invite/zt-ne1f5jlx-k_dY8RGo3ZreDXwz0f~CeA\" \n",
      " \n",
      "TensorFlow Version: 2.9.2 \n",
      "Python Version: 3.8.13 | packaged by conda-forge | (default, Mar 25 2022, 06:04:14) \n",
      "[Clang 12.0.1 ] \n",
      "\n",
      "Outdated SciANN installation is found (V-0.6.7.3). Get the latest version (V-0.6.7.6):  \n",
      "      > pip [--user] install --upgrade sciann  \n"
     ]
    }
   ],
   "source": [
    "#Imports\n",
    "import numpy as np \n",
    "from numpy import pi\n",
    "import matplotlib.pyplot as plt\n",
    "import sciann as sn \n",
    "from sciann_datagenerator import * "
   ]
  },
  {
   "cell_type": "code",
   "execution_count": 3,
   "metadata": {},
   "outputs": [],
   "source": [
    "#voy a hacer la ecuacion logistica en un intervalo en R\n",
    "\n",
    "#armo un intervalo en R, [0,4]. Le voy a poner boundary condition en el borde izquierdo que va a ser el dato inicial\n",
    "\n",
    "dg = DataGeneratorX([0., 4.], [\"domain\", \"bc-left\"], 1000) #, \"bc-right\"]\n",
    "input_data, target_data = dg.get_data()\n",
    "\n",
    "#input_data : los valores de x donde voy a evaluar la u\n",
    "#target_data: Los valores de u(x) para cada x en input_data. Como recien lo inicializo, es vector de ceros.\n",
    "#Se rellena cuando entrenemos la red.\n",
    "\n"
   ]
  },
  {
   "cell_type": "code",
   "execution_count": 32,
   "metadata": {},
   "outputs": [],
   "source": [
    "#dg.target_data"
   ]
  },
  {
   "cell_type": "code",
   "execution_count": 4,
   "metadata": {},
   "outputs": [
    {
     "data": {
      "image/png": "[encoded data removed]",
      "text/plain": [
       "<Figure size 432x288 with 1 Axes>"
      ]
     },
     "metadata": {
      "needs_background": "light"
     },
     "output_type": "display_data"
    }
   ],
   "source": [
    "dg.plot_data()\n",
    "#ploteo mis puntos _collocation points_ que tienen muchos puntos en el borde, al pedo, y  puntos en el intervalo [0,4]\n",
    "#El scatter es solo para que se vea mejor, son todos puntos de R."
   ]
  },
  {
   "cell_type": "code",
   "execution_count": 5,
   "metadata": {},
   "outputs": [],
   "source": [
    "#defino mis funcion y mis variables\n",
    "x = sn.Variable('x')\n",
    "\n",
    "u = sn.Functional('u', [x], hidden_layers = 4*[10], activation = 'tanh', res_net=True) #esta es la red neuronal cruda sin entrenar,\n"
   ]
  },
  {
   "cell_type": "code",
   "execution_count": 6,
   "metadata": {},
   "outputs": [],
   "source": [
    "#ahora defino la loss function para u\n",
    "\n",
    "#Pido que satisfaga la ecuacion\n",
    "L = sn.diff(u, x, order=1) + u * (sn.sub(u,1)) # sacando -1 de factor comun: Ux - u(1-u) = Ux + u (u-1)\n",
    "\n",
    "#Dato inicial u(0) = 2\n",
    "IC = (x==0.) * (sn.abs( sn.sub(u,2)))"
   ]
  },
  {
   "cell_type": "code",
   "execution_count": 7,
   "metadata": {},
   "outputs": [],
   "source": [
    "modelo = sn.SciModel(x,[L,IC], optimizer = 'adam')\n"
   ]
  },
  {
   "cell_type": "code",
   "execution_count": 8,
   "metadata": {},
   "outputs": [
    {
     "name": "stdout",
     "output_type": "stream",
     "text": [
      "\n",
      "Total samples: 1000 \n",
      "Batch size: 64 \n",
      "Total batches: 16 \n",
      "\n",
      "\n",
      "+ NTK evaluation time [s]: 0.9325916767120361 \n",
      "\n",
      "+ adaptive_weights at epoch 1: [0.10572224401045886, 1.8942777559895414]\n",
      "Epoch 1/100\n",
      "16/16 [==============================] - 2s 28ms/step - batch: 7.5000 - size: 62.5000 - loss: 9.5144 - add_loss: 17.3454 - mul_2_loss: 4.0533 - lr: 0.0010 - time: 2.4996 - loss_weight_0: 0.1057 - loss_weight_1: 1.8943 - loss_gradient_0: 5722.6633 - loss_gradient_1: 17.1662\n",
      "Epoch 2/100\n",
      "16/16 [==============================] - 0s 14ms/step - batch: 7.5000 - size: 62.5000 - loss: 7.6510 - add_loss: 5.1132 - mul_2_loss: 3.7545 - lr: 0.0010 - time: 0.2767 - loss_weight_0: 0.1057 - loss_weight_1: 1.8943 - loss_gradient_0: 5722.6633 - loss_gradient_1: 17.1662\n",
      "Epoch 3/100\n",
      "16/16 [==============================] - 0s 13ms/step - batch: 7.5000 - size: 62.5000 - loss: 6.6936 - add_loss: 2.2205 - mul_2_loss: 3.4087 - lr: 0.0010 - time: 0.2668 - loss_weight_0: 0.1057 - loss_weight_1: 1.8943 - loss_gradient_0: 5722.6633 - loss_gradient_1: 17.1662\n",
      "Epoch 4/100\n",
      "16/16 [==============================] - 0s 14ms/step - batch: 7.5000 - size: 62.5000 - loss: 6.0791 - add_loss: 1.1954 - mul_2_loss: 3.1437 - lr: 0.0010 - time: 0.2882 - loss_weight_0: 0.1057 - loss_weight_1: 1.8943 - loss_gradient_0: 5722.6633 - loss_gradient_1: 17.1662\n",
      "Epoch 5/100\n",
      "16/16 [==============================] - 0s 13ms/step - batch: 7.5000 - size: 62.5000 - loss: 5.4012 - add_loss: 0.8040 - mul_2_loss: 2.8057 - lr: 0.0010 - time: 0.2698 - loss_weight_0: 0.1057 - loss_weight_1: 1.8943 - loss_gradient_0: 5722.6633 - loss_gradient_1: 17.1662\n",
      "Epoch 6/100\n",
      "16/16 [==============================] - 0s 13ms/step - batch: 7.5000 - size: 62.5000 - loss: 4.8313 - add_loss: 0.6654 - mul_2_loss: 2.5144 - lr: 0.0010 - time: 0.2697 - loss_weight_0: 0.1057 - loss_weight_1: 1.8943 - loss_gradient_0: 5722.6633 - loss_gradient_1: 17.1662\n",
      "Epoch 7/100\n",
      "16/16 [==============================] - 0s 13ms/step - batch: 7.5000 - size: 62.5000 - loss: 4.0759 - add_loss: 0.6315 - mul_2_loss: 2.1157 - lr: 0.0010 - time: 0.2705 - loss_weight_0: 0.1057 - loss_weight_1: 1.8943 - loss_gradient_0: 5722.6633 - loss_gradient_1: 17.1662\n",
      "Epoch 8/100\n",
      "16/16 [==============================] - 0s 13ms/step - batch: 7.5000 - size: 62.5000 - loss: 3.3240 - add_loss: 0.7568 - mul_2_loss: 1.7122 - lr: 0.0010 - time: 0.2644 - loss_weight_0: 0.1057 - loss_weight_1: 1.8943 - loss_gradient_0: 5722.6633 - loss_gradient_1: 17.1662\n",
      "Epoch 9/100\n",
      "16/16 [==============================] - 0s 13ms/step - batch: 7.5000 - size: 62.5000 - loss: 2.4408 - add_loss: 0.8752 - mul_2_loss: 1.2396 - lr: 0.0010 - time: 0.2760 - loss_weight_0: 0.1057 - loss_weight_1: 1.8943 - loss_gradient_0: 5722.6633 - loss_gradient_1: 17.1662\n",
      "Epoch 10/100\n",
      "16/16 [==============================] - 0s 13ms/step - batch: 7.5000 - size: 62.5000 - loss: 1.5603 - add_loss: 1.1497 - mul_2_loss: 0.7594 - lr: 0.0010 - time: 0.2644 - loss_weight_0: 0.1057 - loss_weight_1: 1.8943 - loss_gradient_0: 5722.6633 - loss_gradient_1: 17.1662\n",
      "\n",
      "+ NTK evaluation time [s]: 0.33936095237731934 \n",
      "\n",
      "+ adaptive_weights at epoch 11: [0.2724923005292926, 1.727507704686114]\n",
      "Epoch 11/100\n",
      "16/16 [==============================] - 0s 13ms/step - batch: 7.5000 - size: 62.5000 - loss: 0.9862 - add_loss: 1.2911 - mul_2_loss: 0.3667 - lr: 0.0010 - time: 0.5546 - loss_weight_0: 0.2725 - loss_weight_1: 1.7275 - loss_gradient_0: 252.9042 - loss_gradient_1: 49.0586\n",
      "Epoch 12/100\n",
      "16/16 [==============================] - 0s 13ms/step - batch: 7.5000 - size: 62.5000 - loss: 0.6195 - add_loss: 1.2994 - mul_2_loss: 0.1535 - lr: 0.0010 - time: 0.2769 - loss_weight_0: 0.2725 - loss_weight_1: 1.7275 - loss_gradient_0: 252.9042 - loss_gradient_1: 49.0586\n",
      "Epoch 13/100\n",
      "16/16 [==============================] - 0s 13ms/step - batch: 7.5000 - size: 62.5000 - loss: 0.4202 - add_loss: 1.2037 - mul_2_loss: 0.0534 - lr: 0.0010 - time: 0.2749 - loss_weight_0: 0.2725 - loss_weight_1: 1.7275 - loss_gradient_0: 252.9042 - loss_gradient_1: 49.0586\n",
      "Epoch 14/100\n",
      "16/16 [==============================] - 0s 15ms/step - batch: 7.5000 - size: 62.5000 - loss: 0.3101 - add_loss: 1.0258 - mul_2_loss: 0.0176 - lr: 0.0010 - time: 0.3024 - loss_weight_0: 0.2725 - loss_weight_1: 1.7275 - loss_gradient_0: 252.9042 - loss_gradient_1: 49.0586\n",
      "Epoch 15/100\n",
      "16/16 [==============================] - 0s 15ms/step - batch: 7.5000 - size: 62.5000 - loss: 0.2507 - add_loss: 0.8786 - mul_2_loss: 0.0065 - lr: 0.0010 - time: 0.2879 - loss_weight_0: 0.2725 - loss_weight_1: 1.7275 - loss_gradient_0: 252.9042 - loss_gradient_1: 49.0586\n",
      "Epoch 16/100\n",
      "16/16 [==============================] - 0s 14ms/step - batch: 7.5000 - size: 62.5000 - loss: 0.2050 - add_loss: 0.7318 - mul_2_loss: 0.0031 - lr: 0.0010 - time: 0.2647 - loss_weight_0: 0.2725 - loss_weight_1: 1.7275 - loss_gradient_0: 252.9042 - loss_gradient_1: 49.0586\n",
      "Epoch 17/100\n",
      "16/16 [==============================] - 0s 15ms/step - batch: 7.5000 - size: 62.5000 - loss: 0.1762 - add_loss: 0.6368 - mul_2_loss: 0.0016 - lr: 0.0010 - time: 0.2856 - loss_weight_0: 0.2725 - loss_weight_1: 1.7275 - loss_gradient_0: 252.9042 - loss_gradient_1: 49.0586\n",
      "Epoch 18/100\n",
      "16/16 [==============================] - 0s 13ms/step - batch: 7.5000 - size: 62.5000 - loss: 0.1466 - add_loss: 0.5308 - mul_2_loss: 0.0011 - lr: 0.0010 - time: 0.2632 - loss_weight_0: 0.2725 - loss_weight_1: 1.7275 - loss_gradient_0: 252.9042 - loss_gradient_1: 49.0586\n",
      "Epoch 19/100\n",
      "16/16 [==============================] - 0s 13ms/step - batch: 7.5000 - size: 62.5000 - loss: 0.1222 - add_loss: 0.4434 - mul_2_loss: 7.8839e-04 - lr: 0.0010 - time: 0.2786 - loss_weight_0: 0.2725 - loss_weight_1: 1.7275 - loss_gradient_0: 252.9042 - loss_gradient_1: 49.0586\n",
      "Epoch 20/100\n",
      "16/16 [==============================] - 0s 14ms/step - batch: 7.5000 - size: 62.5000 - loss: 0.1008 - add_loss: 0.3672 - mul_2_loss: 4.4622e-04 - lr: 0.0010 - time: 0.2914 - loss_weight_0: 0.2725 - loss_weight_1: 1.7275 - loss_gradient_0: 252.9042 - loss_gradient_1: 49.0586\n",
      "\n",
      "+ NTK evaluation time [s]: 0.3801419734954834 \n",
      "\n",
      "+ adaptive_weights at epoch 21: [0.4536213543671742, 1.546378645632826]\n",
      "Epoch 21/100\n",
      "16/16 [==============================] - 0s 13ms/step - batch: 7.5000 - size: 62.5000 - loss: 0.1286 - add_loss: 0.2824 - mul_2_loss: 2.7861e-04 - lr: 0.0010 - time: 0.5960 - loss_weight_0: 0.4536 - loss_weight_1: 1.5464 - loss_gradient_0: 329.7227 - loss_gradient_1: 71.0822\n",
      "Epoch 22/100\n",
      "16/16 [==============================] - 0s 13ms/step - batch: 7.5000 - size: 62.5000 - loss: 0.0871 - add_loss: 0.1910 - mul_2_loss: 2.5153e-04 - lr: 0.0010 - time: 0.2707 - loss_weight_0: 0.4536 - loss_weight_1: 1.5464 - loss_gradient_0: 329.7227 - loss_gradient_1: 71.0822\n",
      "Epoch 23/100\n",
      "16/16 [==============================] - 0s 13ms/step - batch: 7.5000 - size: 62.5000 - loss: 0.0560 - add_loss: 0.1230 - mul_2_loss: 1.1340e-04 - lr: 0.0010 - time: 0.2735 - loss_weight_0: 0.4536 - loss_weight_1: 1.5464 - loss_gradient_0: 329.7227 - loss_gradient_1: 71.0822\n",
      "Epoch 24/100\n",
      "16/16 [==============================] - 0s 15ms/step - batch: 7.5000 - size: 62.5000 - loss: 0.0393 - add_loss: 0.0866 - mul_2_loss: 1.0002e-05 - lr: 0.0010 - time: 0.3034 - loss_weight_0: 0.4536 - loss_weight_1: 1.5464 - loss_gradient_0: 329.7227 - loss_gradient_1: 71.0822\n",
      "Epoch 25/100\n",
      "16/16 [==============================] - 0s 13ms/step - batch: 7.5000 - size: 62.5000 - loss: 0.0285 - add_loss: 0.0629 - mul_2_loss: 1.8017e-05 - lr: 0.0010 - time: 0.2420 - loss_weight_0: 0.4536 - loss_weight_1: 1.5464 - loss_gradient_0: 329.7227 - loss_gradient_1: 71.0822\n",
      "Epoch 26/100\n",
      "16/16 [==============================] - 0s 14ms/step - batch: 7.5000 - size: 62.5000 - loss: 0.0211 - add_loss: 0.0464 - mul_2_loss: 4.2517e-05 - lr: 0.0010 - time: 0.2873 - loss_weight_0: 0.4536 - loss_weight_1: 1.5464 - loss_gradient_0: 329.7227 - loss_gradient_1: 71.0822\n",
      "Epoch 27/100\n",
      "16/16 [==============================] - 0s 13ms/step - batch: 7.5000 - size: 62.5000 - loss: 0.0156 - add_loss: 0.0344 - mul_2_loss: 1.9069e-05 - lr: 0.0010 - time: 0.2676 - loss_weight_0: 0.4536 - loss_weight_1: 1.5464 - loss_gradient_0: 329.7227 - loss_gradient_1: 71.0822\n",
      "Epoch 28/100\n",
      "16/16 [==============================] - 0s 13ms/step - batch: 7.5000 - size: 62.5000 - loss: 0.0121 - add_loss: 0.0267 - mul_2_loss: 6.3589e-06 - lr: 0.0010 - time: 0.2716 - loss_weight_0: 0.4536 - loss_weight_1: 1.5464 - loss_gradient_0: 329.7227 - loss_gradient_1: 71.0822\n",
      "Epoch 29/100\n",
      "16/16 [==============================] - 0s 13ms/step - batch: 7.5000 - size: 62.5000 - loss: 0.0092 - add_loss: 0.0202 - mul_2_loss: 2.9234e-06 - lr: 0.0010 - time: 0.2739 - loss_weight_0: 0.4536 - loss_weight_1: 1.5464 - loss_gradient_0: 329.7227 - loss_gradient_1: 71.0822\n",
      "Epoch 30/100\n",
      "16/16 [==============================] - 0s 13ms/step - batch: 7.5000 - size: 62.5000 - loss: 0.0071 - add_loss: 0.0157 - mul_2_loss: 6.2756e-07 - lr: 0.0010 - time: 0.2704 - loss_weight_0: 0.4536 - loss_weight_1: 1.5464 - loss_gradient_0: 329.7227 - loss_gradient_1: 71.0822\n",
      "\n",
      "+ NTK evaluation time [s]: 0.39058709144592285 \n",
      "\n",
      "+ adaptive_weights at epoch 31: [0.262951291128893, 1.737048705890875]\n",
      "Epoch 31/100\n",
      "16/16 [==============================] - 0s 14ms/step - batch: 7.5000 - size: 62.5000 - loss: 0.0034 - add_loss: 0.0128 - mul_2_loss: 8.3526e-08 - lr: 0.0010 - time: 0.6111 - loss_weight_0: 0.2630 - loss_weight_1: 1.7370 - loss_gradient_0: 515.1100 - loss_gradient_1: 70.5293\n",
      "Epoch 32/100\n",
      "16/16 [==============================] - 0s 13ms/step - batch: 7.5000 - size: 62.5000 - loss: 0.0029 - add_loss: 0.0110 - mul_2_loss: 1.6562e-07 - lr: 0.0010 - time: 0.2685 - loss_weight_0: 0.2630 - loss_weight_1: 1.7370 - loss_gradient_0: 515.1100 - loss_gradient_1: 70.5293\n",
      "Epoch 33/100\n",
      "16/16 [==============================] - 0s 13ms/step - batch: 7.5000 - size: 62.5000 - loss: 0.0026 - add_loss: 0.0098 - mul_2_loss: 2.2241e-07 - lr: 0.0010 - time: 0.2788 - loss_weight_0: 0.2630 - loss_weight_1: 1.7370 - loss_gradient_0: 515.1100 - loss_gradient_1: 70.5293\n",
      "Epoch 34/100\n",
      "16/16 [==============================] - 0s 13ms/step - batch: 7.5000 - size: 62.5000 - loss: 0.0024 - add_loss: 0.0090 - mul_2_loss: 3.0936e-07 - lr: 0.0010 - time: 0.2733 - loss_weight_0: 0.2630 - loss_weight_1: 1.7370 - loss_gradient_0: 515.1100 - loss_gradient_1: 70.5293\n",
      "Epoch 35/100\n",
      "16/16 [==============================] - 0s 13ms/step - batch: 7.5000 - size: 62.5000 - loss: 0.0022 - add_loss: 0.0084 - mul_2_loss: 3.5008e-07 - lr: 0.0010 - time: 0.2742 - loss_weight_0: 0.2630 - loss_weight_1: 1.7370 - loss_gradient_0: 515.1100 - loss_gradient_1: 70.5293\n",
      "Epoch 36/100\n",
      "16/16 [==============================] - 0s 13ms/step - batch: 7.5000 - size: 62.5000 - loss: 0.0020 - add_loss: 0.0077 - mul_2_loss: 4.6226e-07 - lr: 0.0010 - time: 0.2675 - loss_weight_0: 0.2630 - loss_weight_1: 1.7370 - loss_gradient_0: 515.1100 - loss_gradient_1: 70.5293\n",
      "Epoch 37/100\n",
      "16/16 [==============================] - 0s 13ms/step - batch: 7.5000 - size: 62.5000 - loss: 0.0019 - add_loss: 0.0072 - mul_2_loss: 3.5639e-07 - lr: 0.0010 - time: 0.2754 - loss_weight_0: 0.2630 - loss_weight_1: 1.7370 - loss_gradient_0: 515.1100 - loss_gradient_1: 70.5293\n",
      "Epoch 38/100\n",
      "16/16 [==============================] - 0s 13ms/step - batch: 7.5000 - size: 62.5000 - loss: 0.0018 - add_loss: 0.0069 - mul_2_loss: 9.0151e-07 - lr: 0.0010 - time: 0.2697 - loss_weight_0: 0.2630 - loss_weight_1: 1.7370 - loss_gradient_0: 515.1100 - loss_gradient_1: 70.5293\n",
      "Epoch 39/100\n",
      "16/16 [==============================] - 0s 13ms/step - batch: 7.5000 - size: 62.5000 - loss: 0.0018 - add_loss: 0.0068 - mul_2_loss: 1.6762e-06 - lr: 0.0010 - time: 0.2743 - loss_weight_0: 0.2630 - loss_weight_1: 1.7370 - loss_gradient_0: 515.1100 - loss_gradient_1: 70.5293\n",
      "Epoch 40/100\n",
      "16/16 [==============================] - 0s 13ms/step - batch: 7.5000 - size: 62.5000 - loss: 0.0017 - add_loss: 0.0064 - mul_2_loss: 7.9583e-07 - lr: 0.0010 - time: 0.2769 - loss_weight_0: 0.2630 - loss_weight_1: 1.7370 - loss_gradient_0: 515.1100 - loss_gradient_1: 70.5293\n",
      "\n",
      "+ NTK evaluation time [s]: 0.34113192558288574 \n",
      "\n",
      "+ adaptive_weights at epoch 41: [0.23752186665421754, 1.7624781363260147]\n",
      "Epoch 41/100\n",
      "16/16 [==============================] - 0s 13ms/step - batch: 7.5000 - size: 62.5000 - loss: 0.0014 - add_loss: 0.0061 - mul_2_loss: 7.1044e-07 - lr: 0.0010 - time: 0.5583 - loss_weight_0: 0.2375 - loss_weight_1: 1.7625 - loss_gradient_0: 530.2477 - loss_gradient_1: 70.3719\n",
      "Epoch 42/100\n",
      "16/16 [==============================] - 0s 13ms/step - batch: 7.5000 - size: 62.5000 - loss: 0.0014 - add_loss: 0.0058 - mul_2_loss: 8.7229e-07 - lr: 0.0010 - time: 0.2734 - loss_weight_0: 0.2375 - loss_weight_1: 1.7625 - loss_gradient_0: 530.2477 - loss_gradient_1: 70.3719\n",
      "Epoch 43/100\n",
      "16/16 [==============================] - 0s 13ms/step - batch: 7.5000 - size: 62.5000 - loss: 0.0014 - add_loss: 0.0061 - mul_2_loss: 4.4103e-07 - lr: 0.0010 - time: 0.2709 - loss_weight_0: 0.2375 - loss_weight_1: 1.7625 - loss_gradient_0: 530.2477 - loss_gradient_1: 70.3719\n",
      "Epoch 44/100\n",
      "16/16 [==============================] - 0s 13ms/step - batch: 7.5000 - size: 62.5000 - loss: 0.0013 - add_loss: 0.0056 - mul_2_loss: 1.0449e-06 - lr: 0.0010 - time: 0.2745 - loss_weight_0: 0.2375 - loss_weight_1: 1.7625 - loss_gradient_0: 530.2477 - loss_gradient_1: 70.3719\n",
      "Epoch 45/100\n",
      "16/16 [==============================] - 0s 13ms/step - batch: 7.5000 - size: 62.5000 - loss: 0.0013 - add_loss: 0.0056 - mul_2_loss: 1.3544e-06 - lr: 0.0010 - time: 0.2704 - loss_weight_0: 0.2375 - loss_weight_1: 1.7625 - loss_gradient_0: 530.2477 - loss_gradient_1: 70.3719\n",
      "Epoch 46/100\n",
      "16/16 [==============================] - 0s 13ms/step - batch: 7.5000 - size: 62.5000 - loss: 0.0013 - add_loss: 0.0053 - mul_2_loss: 5.7649e-07 - lr: 0.0010 - time: 0.2742 - loss_weight_0: 0.2375 - loss_weight_1: 1.7625 - loss_gradient_0: 530.2477 - loss_gradient_1: 70.3719\n",
      "Epoch 47/100\n",
      "16/16 [==============================] - 0s 13ms/step - batch: 7.5000 - size: 62.5000 - loss: 0.0012 - add_loss: 0.0052 - mul_2_loss: 5.1941e-07 - lr: 0.0010 - time: 0.2718 - loss_weight_0: 0.2375 - loss_weight_1: 1.7625 - loss_gradient_0: 530.2477 - loss_gradient_1: 70.3719\n",
      "Epoch 48/100\n",
      "16/16 [==============================] - 0s 13ms/step - batch: 7.5000 - size: 62.5000 - loss: 0.0012 - add_loss: 0.0050 - mul_2_loss: 9.7772e-07 - lr: 0.0010 - time: 0.2780 - loss_weight_0: 0.2375 - loss_weight_1: 1.7625 - loss_gradient_0: 530.2477 - loss_gradient_1: 70.3719\n",
      "Epoch 49/100\n",
      "16/16 [==============================] - 0s 14ms/step - batch: 7.5000 - size: 62.5000 - loss: 0.0012 - add_loss: 0.0051 - mul_2_loss: 1.4416e-06 - lr: 0.0010 - time: 0.2878 - loss_weight_0: 0.2375 - loss_weight_1: 1.7625 - loss_gradient_0: 530.2477 - loss_gradient_1: 70.3719\n",
      "Epoch 50/100\n",
      "16/16 [==============================] - 0s 13ms/step - batch: 7.5000 - size: 62.5000 - loss: 0.0012 - add_loss: 0.0049 - mul_2_loss: 3.3073e-07 - lr: 0.0010 - time: 0.2558 - loss_weight_0: 0.2375 - loss_weight_1: 1.7625 - loss_gradient_0: 530.2477 - loss_gradient_1: 70.3719\n",
      "\n",
      "+ NTK evaluation time [s]: 0.34946417808532715 \n",
      "\n",
      "+ adaptive_weights at epoch 51: [0.23279632761276087, 1.7672036708971228]\n",
      "Epoch 51/100\n",
      "16/16 [==============================] - 0s 13ms/step - batch: 7.5000 - size: 62.5000 - loss: 0.0011 - add_loss: 0.0048 - mul_2_loss: 2.6682e-07 - lr: 0.0010 - time: 0.5652 - loss_weight_0: 0.2328 - loss_weight_1: 1.7672 - loss_gradient_0: 535.5176 - loss_gradient_1: 70.4145\n",
      "Epoch 52/100\n",
      "16/16 [==============================] - 0s 13ms/step - batch: 7.5000 - size: 62.5000 - loss: 0.0011 - add_loss: 0.0047 - mul_2_loss: 1.3884e-06 - lr: 0.0010 - time: 0.2735 - loss_weight_0: 0.2328 - loss_weight_1: 1.7672 - loss_gradient_0: 535.5176 - loss_gradient_1: 70.4145\n",
      "Epoch 53/100\n",
      "16/16 [==============================] - 0s 13ms/step - batch: 7.5000 - size: 62.5000 - loss: 0.0011 - add_loss: 0.0046 - mul_2_loss: 7.6022e-07 - lr: 0.0010 - time: 0.2731 - loss_weight_0: 0.2328 - loss_weight_1: 1.7672 - loss_gradient_0: 535.5176 - loss_gradient_1: 70.4145\n",
      "Epoch 54/100\n",
      "16/16 [==============================] - 0s 13ms/step - batch: 7.5000 - size: 62.5000 - loss: 0.0010 - add_loss: 0.0045 - mul_2_loss: 3.0038e-07 - lr: 0.0010 - time: 0.2660 - loss_weight_0: 0.2328 - loss_weight_1: 1.7672 - loss_gradient_0: 535.5176 - loss_gradient_1: 70.4145\n",
      "Epoch 55/100\n",
      "16/16 [==============================] - 0s 13ms/step - batch: 7.5000 - size: 62.5000 - loss: 0.0010 - add_loss: 0.0044 - mul_2_loss: 5.5713e-07 - lr: 0.0010 - time: 0.2736 - loss_weight_0: 0.2328 - loss_weight_1: 1.7672 - loss_gradient_0: 535.5176 - loss_gradient_1: 70.4145\n",
      "Epoch 56/100\n",
      "16/16 [==============================] - 0s 13ms/step - batch: 7.5000 - size: 62.5000 - loss: 0.0010 - add_loss: 0.0044 - mul_2_loss: 5.7579e-07 - lr: 0.0010 - time: 0.2795 - loss_weight_0: 0.2328 - loss_weight_1: 1.7672 - loss_gradient_0: 535.5176 - loss_gradient_1: 70.4145\n",
      "Epoch 57/100\n",
      "16/16 [==============================] - 0s 13ms/step - batch: 7.5000 - size: 62.5000 - loss: 9.7775e-04 - add_loss: 0.0042 - mul_2_loss: 4.7570e-07 - lr: 0.0010 - time: 0.2626 - loss_weight_0: 0.2328 - loss_weight_1: 1.7672 - loss_gradient_0: 535.5176 - loss_gradient_1: 70.4145\n",
      "Epoch 58/100\n",
      "16/16 [==============================] - 0s 13ms/step - batch: 7.5000 - size: 62.5000 - loss: 9.6050e-04 - add_loss: 0.0041 - mul_2_loss: 5.0207e-07 - lr: 0.0010 - time: 0.2748 - loss_weight_0: 0.2328 - loss_weight_1: 1.7672 - loss_gradient_0: 535.5176 - loss_gradient_1: 70.4145\n",
      "Epoch 59/100\n",
      "16/16 [==============================] - 0s 13ms/step - batch: 7.5000 - size: 62.5000 - loss: 9.6707e-04 - add_loss: 0.0041 - mul_2_loss: 1.0055e-06 - lr: 0.0010 - time: 0.2764 - loss_weight_0: 0.2328 - loss_weight_1: 1.7672 - loss_gradient_0: 535.5176 - loss_gradient_1: 70.4145\n",
      "Epoch 60/100\n",
      "16/16 [==============================] - 0s 13ms/step - batch: 7.5000 - size: 62.5000 - loss: 9.3520e-04 - add_loss: 0.0040 - mul_2_loss: 3.7177e-07 - lr: 0.0010 - time: 0.2683 - loss_weight_0: 0.2328 - loss_weight_1: 1.7672 - loss_gradient_0: 535.5176 - loss_gradient_1: 70.4145\n",
      "\n",
      "+ NTK evaluation time [s]: 0.33275914192199707 \n",
      "\n",
      "+ adaptive_weights at epoch 61: [0.23120974645920628, 1.7687902550309098]\n",
      "Epoch 61/100\n",
      "16/16 [==============================] - 0s 13ms/step - batch: 7.5000 - size: 62.5000 - loss: 9.2655e-04 - add_loss: 0.0040 - mul_2_loss: 2.3549e-07 - lr: 0.0010 - time: 0.5430 - loss_weight_0: 0.2312 - loss_weight_1: 1.7688 - loss_gradient_0: 537.3400 - loss_gradient_1: 70.4701\n",
      "Epoch 62/100\n",
      "16/16 [==============================] - 0s 13ms/step - batch: 7.5000 - size: 62.5000 - loss: 8.9640e-04 - add_loss: 0.0039 - mul_2_loss: 7.7632e-07 - lr: 0.0010 - time: 0.2748 - loss_weight_0: 0.2312 - loss_weight_1: 1.7688 - loss_gradient_0: 537.3400 - loss_gradient_1: 70.4701\n",
      "Epoch 63/100\n",
      "16/16 [==============================] - 0s 13ms/step - batch: 7.5000 - size: 62.5000 - loss: 8.6566e-04 - add_loss: 0.0037 - mul_2_loss: 9.2065e-07 - lr: 0.0010 - time: 0.2753 - loss_weight_0: 0.2312 - loss_weight_1: 1.7688 - loss_gradient_0: 537.3400 - loss_gradient_1: 70.4701\n",
      "Epoch 64/100\n",
      "16/16 [==============================] - 0s 13ms/step - batch: 7.5000 - size: 62.5000 - loss: 8.5295e-04 - add_loss: 0.0037 - mul_2_loss: 9.5910e-08 - lr: 0.0010 - time: 0.2711 - loss_weight_0: 0.2312 - loss_weight_1: 1.7688 - loss_gradient_0: 537.3400 - loss_gradient_1: 70.4701\n",
      "Epoch 65/100\n",
      "16/16 [==============================] - 0s 13ms/step - batch: 7.5000 - size: 62.5000 - loss: 8.3185e-04 - add_loss: 0.0036 - mul_2_loss: 1.9678e-07 - lr: 0.0010 - time: 0.2694 - loss_weight_0: 0.2312 - loss_weight_1: 1.7688 - loss_gradient_0: 537.3400 - loss_gradient_1: 70.4701\n",
      "Epoch 66/100\n",
      "16/16 [==============================] - 0s 13ms/step - batch: 7.5000 - size: 62.5000 - loss: 8.3689e-04 - add_loss: 0.0036 - mul_2_loss: 4.2954e-07 - lr: 0.0010 - time: 0.2690 - loss_weight_0: 0.2312 - loss_weight_1: 1.7688 - loss_gradient_0: 537.3400 - loss_gradient_1: 70.4701\n",
      "Epoch 67/100\n",
      "16/16 [==============================] - 0s 13ms/step - batch: 7.5000 - size: 62.5000 - loss: 8.1549e-04 - add_loss: 0.0035 - mul_2_loss: 7.7293e-07 - lr: 0.0010 - time: 0.2719 - loss_weight_0: 0.2312 - loss_weight_1: 1.7688 - loss_gradient_0: 537.3400 - loss_gradient_1: 70.4701\n",
      "Epoch 68/100\n",
      "16/16 [==============================] - 0s 13ms/step - batch: 7.5000 - size: 62.5000 - loss: 7.8899e-04 - add_loss: 0.0034 - mul_2_loss: 4.8569e-07 - lr: 0.0010 - time: 0.2680 - loss_weight_0: 0.2312 - loss_weight_1: 1.7688 - loss_gradient_0: 537.3400 - loss_gradient_1: 70.4701\n",
      "Epoch 69/100\n",
      "16/16 [==============================] - 0s 13ms/step - batch: 7.5000 - size: 62.5000 - loss: 7.8889e-04 - add_loss: 0.0034 - mul_2_loss: 1.3604e-07 - lr: 0.0010 - time: 0.2683 - loss_weight_0: 0.2312 - loss_weight_1: 1.7688 - loss_gradient_0: 537.3400 - loss_gradient_1: 70.4701\n",
      "Epoch 70/100\n",
      "16/16 [==============================] - 0s 13ms/step - batch: 7.5000 - size: 62.5000 - loss: 7.6309e-04 - add_loss: 0.0033 - mul_2_loss: 2.8327e-07 - lr: 0.0010 - time: 0.2732 - loss_weight_0: 0.2312 - loss_weight_1: 1.7688 - loss_gradient_0: 537.3400 - loss_gradient_1: 70.4701\n",
      "\n",
      "+ NTK evaluation time [s]: 0.3276078701019287 \n",
      "\n",
      "+ adaptive_weights at epoch 71: [0.23115659815647294, 1.7688434003534108]\n",
      "Epoch 71/100\n",
      "16/16 [==============================] - 0s 13ms/step - batch: 7.5000 - size: 62.5000 - loss: 7.4298e-04 - add_loss: 0.0032 - mul_2_loss: 6.1717e-07 - lr: 0.0010 - time: 0.5376 - loss_weight_0: 0.2312 - loss_weight_1: 1.7688 - loss_gradient_0: 536.3972 - loss_gradient_1: 70.5283\n",
      "Epoch 72/100\n",
      "16/16 [==============================] - 0s 13ms/step - batch: 7.5000 - size: 62.5000 - loss: 7.2591e-04 - add_loss: 0.0031 - mul_2_loss: 1.6088e-07 - lr: 0.0010 - time: 0.2759 - loss_weight_0: 0.2312 - loss_weight_1: 1.7688 - loss_gradient_0: 536.3972 - loss_gradient_1: 70.5283\n",
      "Epoch 73/100\n",
      "16/16 [==============================] - 0s 13ms/step - batch: 7.5000 - size: 62.5000 - loss: 7.1634e-04 - add_loss: 0.0031 - mul_2_loss: 4.5811e-07 - lr: 0.0010 - time: 0.2683 - loss_weight_0: 0.2312 - loss_weight_1: 1.7688 - loss_gradient_0: 536.3972 - loss_gradient_1: 70.5283\n",
      "Epoch 74/100\n",
      "16/16 [==============================] - 0s 13ms/step - batch: 7.5000 - size: 62.5000 - loss: 6.9992e-04 - add_loss: 0.0030 - mul_2_loss: 2.7085e-07 - lr: 0.0010 - time: 0.2732 - loss_weight_0: 0.2312 - loss_weight_1: 1.7688 - loss_gradient_0: 536.3972 - loss_gradient_1: 70.5283\n",
      "Epoch 75/100\n",
      "16/16 [==============================] - 0s 13ms/step - batch: 7.5000 - size: 62.5000 - loss: 6.9480e-04 - add_loss: 0.0030 - mul_2_loss: 3.3116e-07 - lr: 0.0010 - time: 0.2720 - loss_weight_0: 0.2312 - loss_weight_1: 1.7688 - loss_gradient_0: 536.3972 - loss_gradient_1: 70.5283\n",
      "Epoch 76/100\n",
      "16/16 [==============================] - 0s 14ms/step - batch: 7.5000 - size: 62.5000 - loss: 6.7286e-04 - add_loss: 0.0029 - mul_2_loss: 2.5477e-07 - lr: 0.0010 - time: 0.2918 - loss_weight_0: 0.2312 - loss_weight_1: 1.7688 - loss_gradient_0: 536.3972 - loss_gradient_1: 70.5283\n",
      "Epoch 77/100\n",
      "16/16 [==============================] - 0s 13ms/step - batch: 7.5000 - size: 62.5000 - loss: 6.7445e-04 - add_loss: 0.0029 - mul_2_loss: 4.6831e-07 - lr: 0.0010 - time: 0.2548 - loss_weight_0: 0.2312 - loss_weight_1: 1.7688 - loss_gradient_0: 536.3972 - loss_gradient_1: 70.5283\n",
      "Epoch 78/100\n",
      "16/16 [==============================] - 0s 13ms/step - batch: 7.5000 - size: 62.5000 - loss: 6.6241e-04 - add_loss: 0.0029 - mul_2_loss: 4.1846e-07 - lr: 0.0010 - time: 0.2685 - loss_weight_0: 0.2312 - loss_weight_1: 1.7688 - loss_gradient_0: 536.3972 - loss_gradient_1: 70.5283\n",
      "Epoch 79/100\n",
      "16/16 [==============================] - 0s 13ms/step - batch: 7.5000 - size: 62.5000 - loss: 6.4545e-04 - add_loss: 0.0028 - mul_2_loss: 1.4249e-07 - lr: 0.0010 - time: 0.2685 - loss_weight_0: 0.2312 - loss_weight_1: 1.7688 - loss_gradient_0: 536.3972 - loss_gradient_1: 70.5283\n",
      "Epoch 80/100\n",
      "16/16 [==============================] - 0s 13ms/step - batch: 7.5000 - size: 62.5000 - loss: 6.2205e-04 - add_loss: 0.0027 - mul_2_loss: 1.9063e-07 - lr: 0.0010 - time: 0.2752 - loss_weight_0: 0.2312 - loss_weight_1: 1.7688 - loss_gradient_0: 536.3972 - loss_gradient_1: 70.5283\n",
      "\n",
      "+ NTK evaluation time [s]: 0.34619998931884766 \n",
      "\n",
      "+ adaptive_weights at epoch 81: [0.22995090405291194, 1.7700490974372043]\n",
      "Epoch 81/100\n",
      "16/16 [==============================] - 0s 13ms/step - batch: 7.5000 - size: 62.5000 - loss: 6.0868e-04 - add_loss: 0.0026 - mul_2_loss: 2.2193e-07 - lr: 0.0010 - time: 0.5585 - loss_weight_0: 0.2300 - loss_weight_1: 1.7700 - loss_gradient_0: 538.4903 - loss_gradient_1: 70.5904\n",
      "Epoch 82/100\n",
      "16/16 [==============================] - 0s 13ms/step - batch: 7.5000 - size: 62.5000 - loss: 6.0546e-04 - add_loss: 0.0026 - mul_2_loss: 6.9985e-08 - lr: 0.0010 - time: 0.2676 - loss_weight_0: 0.2300 - loss_weight_1: 1.7700 - loss_gradient_0: 538.4903 - loss_gradient_1: 70.5904\n",
      "Epoch 83/100\n",
      "16/16 [==============================] - 0s 13ms/step - batch: 7.5000 - size: 62.5000 - loss: 5.8839e-04 - add_loss: 0.0026 - mul_2_loss: 1.1972e-07 - lr: 0.0010 - time: 0.2740 - loss_weight_0: 0.2300 - loss_weight_1: 1.7700 - loss_gradient_0: 538.4903 - loss_gradient_1: 70.5904\n",
      "Epoch 84/100\n",
      "16/16 [==============================] - 0s 13ms/step - batch: 7.5000 - size: 62.5000 - loss: 5.9419e-04 - add_loss: 0.0026 - mul_2_loss: 7.7246e-07 - lr: 0.0010 - time: 0.2740 - loss_weight_0: 0.2300 - loss_weight_1: 1.7700 - loss_gradient_0: 538.4903 - loss_gradient_1: 70.5904\n",
      "Epoch 85/100\n",
      "16/16 [==============================] - 0s 13ms/step - batch: 7.5000 - size: 62.5000 - loss: 6.2625e-04 - add_loss: 0.0027 - mul_2_loss: 3.7706e-07 - lr: 0.0010 - time: 0.2683 - loss_weight_0: 0.2300 - loss_weight_1: 1.7700 - loss_gradient_0: 538.4903 - loss_gradient_1: 70.5904\n",
      "Epoch 86/100\n",
      "16/16 [==============================] - 0s 13ms/step - batch: 7.5000 - size: 62.5000 - loss: 5.5554e-04 - add_loss: 0.0024 - mul_2_loss: 3.7076e-07 - lr: 0.0010 - time: 0.2725 - loss_weight_0: 0.2300 - loss_weight_1: 1.7700 - loss_gradient_0: 538.4903 - loss_gradient_1: 70.5904\n",
      "Epoch 87/100\n",
      "16/16 [==============================] - 0s 13ms/step - batch: 7.5000 - size: 62.5000 - loss: 5.3767e-04 - add_loss: 0.0023 - mul_2_loss: 6.4616e-08 - lr: 0.0010 - time: 0.2704 - loss_weight_0: 0.2300 - loss_weight_1: 1.7700 - loss_gradient_0: 538.4903 - loss_gradient_1: 70.5904\n",
      "Epoch 88/100\n",
      "16/16 [==============================] - 0s 16ms/step - batch: 7.5000 - size: 62.5000 - loss: 5.2825e-04 - add_loss: 0.0023 - mul_2_loss: 6.0591e-08 - lr: 0.0010 - time: 0.3411 - loss_weight_0: 0.2300 - loss_weight_1: 1.7700 - loss_gradient_0: 538.4903 - loss_gradient_1: 70.5904\n",
      "Epoch 89/100\n",
      "16/16 [==============================] - 0s 13ms/step - batch: 7.5000 - size: 62.5000 - loss: 5.2726e-04 - add_loss: 0.0023 - mul_2_loss: 2.0420e-07 - lr: 0.0010 - time: 0.2622 - loss_weight_0: 0.2300 - loss_weight_1: 1.7700 - loss_gradient_0: 538.4903 - loss_gradient_1: 70.5904\n",
      "Epoch 90/100\n",
      "16/16 [==============================] - 0s 14ms/step - batch: 7.5000 - size: 62.5000 - loss: 5.0371e-04 - add_loss: 0.0022 - mul_2_loss: 2.3300e-07 - lr: 0.0010 - time: 0.2911 - loss_weight_0: 0.2300 - loss_weight_1: 1.7700 - loss_gradient_0: 538.4903 - loss_gradient_1: 70.5904\n",
      "\n",
      "+ NTK evaluation time [s]: 0.37526607513427734 \n",
      "\n",
      "+ adaptive_weights at epoch 91: [0.22959061150807547, 1.7704093884919245]\n",
      "Epoch 91/100\n",
      "16/16 [==============================] - 0s 13ms/step - batch: 7.5000 - size: 62.5000 - loss: 4.9982e-04 - add_loss: 0.0022 - mul_2_loss: 1.8584e-07 - lr: 0.0010 - time: 0.5852 - loss_weight_0: 0.2296 - loss_weight_1: 1.7704 - loss_gradient_0: 538.4529 - loss_gradient_1: 70.6473\n",
      "Epoch 92/100\n",
      "16/16 [==============================] - 0s 13ms/step - batch: 7.5000 - size: 62.5000 - loss: 4.8938e-04 - add_loss: 0.0021 - mul_2_loss: 1.3423e-07 - lr: 0.0010 - time: 0.2728 - loss_weight_0: 0.2296 - loss_weight_1: 1.7704 - loss_gradient_0: 538.4529 - loss_gradient_1: 70.6473\n",
      "Epoch 93/100\n",
      "16/16 [==============================] - 0s 16ms/step - batch: 7.5000 - size: 62.5000 - loss: 4.8327e-04 - add_loss: 0.0021 - mul_2_loss: 8.8248e-08 - lr: 0.0010 - time: 0.3169 - loss_weight_0: 0.2296 - loss_weight_1: 1.7704 - loss_gradient_0: 538.4529 - loss_gradient_1: 70.6473\n",
      "Epoch 94/100\n",
      "16/16 [==============================] - 0s 14ms/step - batch: 7.5000 - size: 62.5000 - loss: 4.7546e-04 - add_loss: 0.0021 - mul_2_loss: 2.3459e-07 - lr: 0.0010 - time: 0.2530 - loss_weight_0: 0.2296 - loss_weight_1: 1.7704 - loss_gradient_0: 538.4529 - loss_gradient_1: 70.6473\n",
      "Epoch 95/100\n",
      "16/16 [==============================] - 0s 13ms/step - batch: 7.5000 - size: 62.5000 - loss: 4.6045e-04 - add_loss: 0.0020 - mul_2_loss: 1.0950e-07 - lr: 0.0010 - time: 0.2643 - loss_weight_0: 0.2296 - loss_weight_1: 1.7704 - loss_gradient_0: 538.4529 - loss_gradient_1: 70.6473\n",
      "Epoch 96/100\n",
      "16/16 [==============================] - 0s 17ms/step - batch: 7.5000 - size: 62.5000 - loss: 4.5859e-04 - add_loss: 0.0020 - mul_2_loss: 3.7798e-07 - lr: 0.0010 - time: 0.3297 - loss_weight_0: 0.2296 - loss_weight_1: 1.7704 - loss_gradient_0: 538.4529 - loss_gradient_1: 70.6473\n",
      "Epoch 97/100\n",
      "16/16 [==============================] - 0s 14ms/step - batch: 7.5000 - size: 62.5000 - loss: 4.4757e-04 - add_loss: 0.0019 - mul_2_loss: 2.8607e-07 - lr: 0.0010 - time: 0.2539 - loss_weight_0: 0.2296 - loss_weight_1: 1.7704 - loss_gradient_0: 538.4529 - loss_gradient_1: 70.6473\n",
      "Epoch 98/100\n",
      "16/16 [==============================] - 0s 13ms/step - batch: 7.5000 - size: 62.5000 - loss: 4.3687e-04 - add_loss: 0.0019 - mul_2_loss: 7.3344e-08 - lr: 0.0010 - time: 0.2777 - loss_weight_0: 0.2296 - loss_weight_1: 1.7704 - loss_gradient_0: 538.4529 - loss_gradient_1: 70.6473\n",
      "Epoch 99/100\n",
      "16/16 [==============================] - 0s 13ms/step - batch: 7.5000 - size: 62.5000 - loss: 4.3002e-04 - add_loss: 0.0019 - mul_2_loss: 4.4753e-08 - lr: 0.0010 - time: 0.2763 - loss_weight_0: 0.2296 - loss_weight_1: 1.7704 - loss_gradient_0: 538.4529 - loss_gradient_1: 70.6473\n",
      "Epoch 100/100\n",
      "16/16 [==============================] - 0s 14ms/step - batch: 7.5000 - size: 62.5000 - loss: 4.2824e-04 - add_loss: 0.0019 - mul_2_loss: 6.7288e-08 - lr: 0.0010 - time: 0.2721 - loss_weight_0: 0.2296 - loss_weight_1: 1.7704 - loss_gradient_0: 538.4529 - loss_gradient_1: 70.6473\n"
     ]
    }
   ],
   "source": [
    "history = modelo.train(x_true = input_data, \n",
    "             y_true = target_data, \n",
    "             epochs = 100,\n",
    "             learning_rate = 0.001,\n",
    "             adaptive_weights={'method': 'NTK', 'freq':10, 'use_score':True})"
   ]
  },
  {
   "cell_type": "code",
   "execution_count": 9,
   "metadata": {},
   "outputs": [],
   "source": [
    "valores = np.arange(0,4,0.001)\n",
    "valores_y = u.eval(valores)"
   ]
  },
  {
   "cell_type": "code",
   "execution_count": 10,
   "metadata": {},
   "outputs": [
    {
     "data": {
      "text/plain": [
       "[<matplotlib.lines.Line2D at 0x2942a7f40>]"
      ]
     },
     "execution_count": 10,
     "metadata": {},
     "output_type": "execute_result"
    },
    {
     "data": {
      "image/png": "[encoded data removed]",
      "text/plain": [
       "<Figure size 432x288 with 1 Axes>"
      ]
     },
     "metadata": {
      "needs_background": "light"
     },
     "output_type": "display_data"
    }
   ],
   "source": [
    "plt.plot(valores,valores_y)\n",
    "plt.xlim([0,4])\n",
    "plt.ylim([0,2])\n",
    "plt.plot([0,4],[1,1],'--r')"
   ]
  },
  {
   "cell_type": "code",
   "execution_count": 12,
   "metadata": {},
   "outputs": [
    {
     "data": {
      "text/plain": [
       "[<matplotlib.lines.Line2D at 0x291eacb20>]"
      ]
     },
     "execution_count": 12,
     "metadata": {},
     "output_type": "execute_result"
    },
    {
     "data": {
      "image/png": "[encoded data removed]",
      "text/plain": [
       "<Figure size 432x288 with 1 Axes>"
      ]
     },
     "metadata": {
      "needs_background": "light"
     },
     "output_type": "display_data"
    }
   ],
   "source": [
    "#Plot of the evolution of the loss function\n",
    "\n",
    "plt.semilogy(history.history['loss'])"
   ]
  },
  {
   "cell_type": "markdown",
   "metadata": {},
   "source": [
    "$u_t = Lap (u) + u(1-u/k)$\n",
    "\n",
    "u(x,t) = proporcion de gente en x a tiempo t"
   ]
  }
 ],
 "metadata": {
  "interpreter": {
   "hash": "cc1a59755133be37aed3275e273373396613f2c8540949455ec1d88e7c33edcf"
  },
  "kernelspec": {
   "display_name": "Python 3.8.13",
   "language": "python",
   "name": "python3"
  },
  "language_info": {
   "codemirror_mode": {
    "name": "ipython",
    "version": 3
   },
   "file_extension": ".py",
   "mimetype": "text/x-python",
   "name": "python",
   "nbconvert_exporter": "python",
   "pygments_lexer": "ipython3",
   "version": "3.8.13"
  },
  "orig_nbformat": 4,
  "vscode": {
   "interpreter": {
    "hash": "04995ff6e01981977325a4dca113d3298b00de2eefdcaf3870cb66211add4c70"
   }
  }
 },
 "nbformat": 4,
 "nbformat_minor": 2
}
