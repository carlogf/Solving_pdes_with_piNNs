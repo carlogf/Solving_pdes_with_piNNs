{
 "cells": [
  {
   "cell_type": "markdown",
   "metadata": {},
   "source": [
    "$u_x = u (1-u)$"
   ]
  },
  {
   "cell_type": "code",
   "execution_count": 1,
   "metadata": {},
   "outputs": [
    {
     "name": "stdout",
     "output_type": "stream",
     "text": [
      "---------------------- SCIANN 0.6.7.3 ---------------------- \n",
      "For details, check out our review paper and the documentation at: \n",
      " +  \"https://www.sciencedirect.com/science/article/pii/S0045782520307374\", \n",
      " +  \"https://arxiv.org/abs/2005.08803\", \n",
      " +  \"https://www.sciann.com\". \n",
      "\n",
      " Need support or would like to contribute, please join sciann`s slack group: \n",
      " +  \"https://join.slack.com/t/sciann/shared_invite/zt-ne1f5jlx-k_dY8RGo3ZreDXwz0f~CeA\" \n",
      " \n",
      "TensorFlow Version: 2.9.1 \n",
      "Python Version: 3.8.5 (default, Sep  4 2020, 07:30:14) \n",
      "[GCC 7.3.0] \n",
      "\n"
     ]
    }
   ],
   "source": [
    "#Imports\n",
    "import numpy as np \n",
    "from numpy import pi\n",
    "import matplotlib.pyplot as plt\n",
    "import sciann as sn \n",
    "from sciann_datagenerator import * "
   ]
  },
  {
   "cell_type": "code",
   "execution_count": 71,
   "metadata": {},
   "outputs": [],
   "source": [
    "#voy a hacer la ecuacion logistica en un intervalo en R\n",
    "\n",
    "#armo un intervalo en R, [0,4]. Le voy a poner boundary condition en el borde izquierdo que va a ser el dato inicial\n",
    "\n",
    "dg = DataGeneratorX([0., 4.], [\"domain\", \"bc-left\"], 1000) #, \"bc-right\"]\n",
    "input_data, target_data = dg.get_data()\n",
    "\n",
    "#input_data : los valores de x donde voy a evaluar la u\n",
    "#target_data: Los valores de u(x) para cada x en input_data. Como recien lo inicializo, es vector de ceros.\n",
    "#Se rellena cuando entrenemos la red.\n",
    "\n"
   ]
  },
  {
   "cell_type": "code",
   "execution_count": 32,
   "metadata": {},
   "outputs": [],
   "source": [
    "#dg.target_data"
   ]
  },
  {
   "cell_type": "code",
   "execution_count": 72,
   "metadata": {},
   "outputs": [
    {
     "data": {
      "image/png": "[encoded data removed]",
      "text/plain": [
       "<Figure size 432x288 with 1 Axes>"
      ]
     },
     "metadata": {
      "needs_background": "light"
     },
     "output_type": "display_data"
    }
   ],
   "source": [
    "dg.plot_data()\n",
    "#ploteo mis puntos _collocation points_ que tienen muchos puntos en el borde, al pedo, y  puntos en el intervalo [0,4]\n",
    "#El scatter es solo para que se vea mejor, son todos puntos de R."
   ]
  },
  {
   "cell_type": "code",
   "execution_count": 73,
   "metadata": {},
   "outputs": [],
   "source": [
    "#defino mis funcion y mis variables\n",
    "x = sn.Variable('x')\n",
    "\n",
    "u = sn.Functional('u', [x], hidden_layers = 4*[10], activation = 'tanh', res_net=True) #esta es la red neuronal cruda sin entrenar,\n"
   ]
  },
  {
   "cell_type": "code",
   "execution_count": 74,
   "metadata": {},
   "outputs": [],
   "source": [
    "#ahora defino la loss function para u\n",
    "\n",
    "#Pido que satisfaga la ecuacion\n",
    "L = sn.diff(u, x, order=1) + u * (sn.sub(u,1)) # sacando -1 de factor comun: Ux - u(1-u) = Ux + u (u-1)\n",
    "\n",
    "#Dato inicial u(0) = 2\n",
    "IC = (x==0.) * (sn.abs( sn.sub(u,2)))"
   ]
  },
  {
   "cell_type": "code",
   "execution_count": 75,
   "metadata": {},
   "outputs": [],
   "source": [
    "modelo = sn.SciModel(x,[L,IC], optimizer = 'adam')\n"
   ]
  },
  {
   "cell_type": "code",
   "execution_count": 76,
   "metadata": {},
   "outputs": [
    {
     "name": "stdout",
     "output_type": "stream",
     "text": [
      "\n",
      "Total samples: 1000 \n",
      "Batch size: 64 \n",
      "Total batches: 16 \n",
      "\n",
      "\n",
      "+ NTK evaluation time [s]: 0.863396406173706 \n",
      "\n",
      "+ adaptive_weights at epoch 1: [0.19721890645217302, 1.8027810935478268]\n",
      "Epoch 1/100\n",
      "16/16 [==============================] - 3s 11ms/step - batch: 7.5000 - size: 62.5000 - loss: 7.3301 - add_4_loss: 0.0217 - mul_117_loss: 4.0646 - lr: 0.0010 - time: 5.2941 - loss_weight_0: 0.1972 - loss_weight_1: 1.8028 - loss_gradient_0: 78.0929 - loss_gradient_1: 5.5602\n",
      "Epoch 2/100\n",
      "16/16 [==============================] - 0s 5ms/step - batch: 7.5000 - size: 62.5000 - loss: 6.9470 - add_4_loss: 0.0107 - mul_117_loss: 3.8518 - lr: 0.0010 - time: 0.0777 - loss_weight_0: 0.1972 - loss_weight_1: 1.8028 - loss_gradient_0: 78.0929 - loss_gradient_1: 5.5602\n",
      "Epoch 3/100\n",
      "16/16 [==============================] - 0s 5ms/step - batch: 7.5000 - size: 62.5000 - loss: 6.6008 - add_4_loss: 0.0082 - mul_117_loss: 3.6605 - lr: 0.0010 - time: 0.1387 - loss_weight_0: 0.1972 - loss_weight_1: 1.8028 - loss_gradient_0: 78.0929 - loss_gradient_1: 5.5602\n",
      "Epoch 4/100\n",
      "16/16 [==============================] - 0s 4ms/step - batch: 7.5000 - size: 62.5000 - loss: 6.2191 - add_4_loss: 0.0072 - mul_117_loss: 3.4505 - lr: 0.0010 - time: 0.1067 - loss_weight_0: 0.1972 - loss_weight_1: 1.8028 - loss_gradient_0: 78.0929 - loss_gradient_1: 5.5602\n",
      "Epoch 5/100\n",
      "16/16 [==============================] - 0s 4ms/step - batch: 7.5000 - size: 62.5000 - loss: 5.5354 - add_4_loss: 0.0068 - mul_117_loss: 3.0683 - lr: 0.0010 - time: 0.1176 - loss_weight_0: 0.1972 - loss_weight_1: 1.8028 - loss_gradient_0: 78.0929 - loss_gradient_1: 5.5602\n",
      "Epoch 6/100\n",
      "16/16 [==============================] - 0s 4ms/step - batch: 7.5000 - size: 62.5000 - loss: 4.7662 - add_4_loss: 0.0078 - mul_117_loss: 2.6435 - lr: 0.0010 - time: 0.1163 - loss_weight_0: 0.1972 - loss_weight_1: 1.8028 - loss_gradient_0: 78.0929 - loss_gradient_1: 5.5602\n",
      "Epoch 7/100\n",
      "16/16 [==============================] - 0s 4ms/step - batch: 7.5000 - size: 62.5000 - loss: 3.7018 - add_4_loss: 0.0105 - mul_117_loss: 2.0523 - lr: 0.0010 - time: 0.1202 - loss_weight_0: 0.1972 - loss_weight_1: 1.8028 - loss_gradient_0: 78.0929 - loss_gradient_1: 5.5602\n",
      "Epoch 8/100\n",
      "16/16 [==============================] - 0s 5ms/step - batch: 7.5000 - size: 62.5000 - loss: 2.5007 - add_4_loss: 0.0136 - mul_117_loss: 1.3856 - lr: 0.0010 - time: 0.1217 - loss_weight_0: 0.1972 - loss_weight_1: 1.8028 - loss_gradient_0: 78.0929 - loss_gradient_1: 5.5602\n",
      "Epoch 9/100\n",
      "16/16 [==============================] - 0s 4ms/step - batch: 7.5000 - size: 62.5000 - loss: 1.3443 - add_4_loss: 0.0186 - mul_117_loss: 0.7434 - lr: 0.0010 - time: 0.1167 - loss_weight_0: 0.1972 - loss_weight_1: 1.8028 - loss_gradient_0: 78.0929 - loss_gradient_1: 5.5602\n",
      "Epoch 10/100\n",
      "16/16 [==============================] - 0s 5ms/step - batch: 7.5000 - size: 62.5000 - loss: 0.5915 - add_4_loss: 0.0295 - mul_117_loss: 0.3253 - lr: 0.0010 - time: 0.1272 - loss_weight_0: 0.1972 - loss_weight_1: 1.8028 - loss_gradient_0: 78.0929 - loss_gradient_1: 5.5602\n",
      "\n",
      "+ NTK evaluation time [s]: 0.06849479675292969 \n",
      "\n",
      "+ adaptive_weights at epoch 11: [0.087607693757106, 1.9123923077330103]\n",
      "Epoch 11/100\n",
      "16/16 [==============================] - 0s 5ms/step - batch: 7.5000 - size: 62.5000 - loss: 0.1888 - add_4_loss: 0.0508 - mul_117_loss: 0.0965 - lr: 0.0010 - time: 0.1506 - loss_weight_0: 0.0876 - loss_weight_1: 1.9124 - loss_gradient_0: 647.5392 - loss_gradient_1: 35.0951\n",
      "Epoch 12/100\n",
      "16/16 [==============================] - 0s 5ms/step - batch: 7.5000 - size: 62.5000 - loss: 0.0373 - add_4_loss: 0.0675 - mul_117_loss: 0.0165 - lr: 0.0010 - time: 0.1289 - loss_weight_0: 0.0876 - loss_weight_1: 1.9124 - loss_gradient_0: 647.5392 - loss_gradient_1: 35.0951\n",
      "Epoch 13/100\n",
      "16/16 [==============================] - 0s 14ms/step - batch: 7.5000 - size: 62.5000 - loss: 0.0086 - add_4_loss: 0.0685 - mul_117_loss: 0.0013 - lr: 0.0010 - time: 0.2613 - loss_weight_0: 0.0876 - loss_weight_1: 1.9124 - loss_gradient_0: 647.5392 - loss_gradient_1: 35.0951\n",
      "Epoch 14/100\n",
      "16/16 [==============================] - 0s 4ms/step - batch: 7.5000 - size: 62.5000 - loss: 0.0056 - add_4_loss: 0.0633 - mul_117_loss: 1.4019e-05 - lr: 0.0010 - time: 0.1159 - loss_weight_0: 0.0876 - loss_weight_1: 1.9124 - loss_gradient_0: 647.5392 - loss_gradient_1: 35.0951\n",
      "Epoch 15/100\n",
      "16/16 [==============================] - 0s 5ms/step - batch: 7.5000 - size: 62.5000 - loss: 0.0048 - add_4_loss: 0.0548 - mul_117_loss: 1.7152e-05 - lr: 0.0010 - time: 0.1341 - loss_weight_0: 0.0876 - loss_weight_1: 1.9124 - loss_gradient_0: 647.5392 - loss_gradient_1: 35.0951\n",
      "Epoch 16/100\n",
      "16/16 [==============================] - 0s 5ms/step - batch: 7.5000 - size: 62.5000 - loss: 0.0045 - add_4_loss: 0.0511 - mul_117_loss: 1.7038e-06 - lr: 0.0010 - time: 0.1266 - loss_weight_0: 0.0876 - loss_weight_1: 1.9124 - loss_gradient_0: 647.5392 - loss_gradient_1: 35.0951\n",
      "Epoch 17/100\n",
      "16/16 [==============================] - 0s 4ms/step - batch: 7.5000 - size: 62.5000 - loss: 0.0039 - add_4_loss: 0.0446 - mul_117_loss: 9.3892e-06 - lr: 0.0010 - time: 0.1131 - loss_weight_0: 0.0876 - loss_weight_1: 1.9124 - loss_gradient_0: 647.5392 - loss_gradient_1: 35.0951\n",
      "Epoch 18/100\n",
      "16/16 [==============================] - 0s 5ms/step - batch: 7.5000 - size: 62.5000 - loss: 0.0036 - add_4_loss: 0.0414 - mul_117_loss: 1.0499e-05 - lr: 0.0010 - time: 0.1259 - loss_weight_0: 0.0876 - loss_weight_1: 1.9124 - loss_gradient_0: 647.5392 - loss_gradient_1: 35.0951\n",
      "Epoch 19/100\n",
      "16/16 [==============================] - 0s 5ms/step - batch: 7.5000 - size: 62.5000 - loss: 0.0033 - add_4_loss: 0.0376 - mul_117_loss: 8.8981e-06 - lr: 0.0010 - time: 0.1215 - loss_weight_0: 0.0876 - loss_weight_1: 1.9124 - loss_gradient_0: 647.5392 - loss_gradient_1: 35.0951\n",
      "Epoch 20/100\n",
      "16/16 [==============================] - 0s 5ms/step - batch: 7.5000 - size: 62.5000 - loss: 0.0032 - add_4_loss: 0.0362 - mul_117_loss: 7.8468e-06 - lr: 0.0010 - time: 0.1214 - loss_weight_0: 0.0876 - loss_weight_1: 1.9124 - loss_gradient_0: 647.5392 - loss_gradient_1: 35.0951\n",
      "\n",
      "+ NTK evaluation time [s]: 0.07462739944458008 \n",
      "\n",
      "+ adaptive_weights at epoch 21: [0.09904270234740548, 1.9009572931822465]\n",
      "Epoch 21/100\n",
      "16/16 [==============================] - 0s 6ms/step - batch: 7.5000 - size: 62.5000 - loss: 0.0034 - add_4_loss: 0.0342 - mul_117_loss: 6.3815e-06 - lr: 0.0010 - time: 0.1712 - loss_weight_0: 0.0990 - loss_weight_1: 1.9010 - loss_gradient_0: 553.8915 - loss_gradient_1: 40.6452\n",
      "Epoch 22/100\n",
      "16/16 [==============================] - 0s 6ms/step - batch: 7.5000 - size: 62.5000 - loss: 0.0030 - add_4_loss: 0.0300 - mul_117_loss: 6.9662e-06 - lr: 0.0010 - time: 0.1524 - loss_weight_0: 0.0990 - loss_weight_1: 1.9010 - loss_gradient_0: 553.8915 - loss_gradient_1: 40.6452\n",
      "Epoch 23/100\n",
      "16/16 [==============================] - 0s 5ms/step - batch: 7.5000 - size: 62.5000 - loss: 0.0028 - add_4_loss: 0.0284 - mul_117_loss: 6.7504e-06 - lr: 0.0010 - time: 0.1150 - loss_weight_0: 0.0990 - loss_weight_1: 1.9010 - loss_gradient_0: 553.8915 - loss_gradient_1: 40.6452\n",
      "Epoch 24/100\n",
      "16/16 [==============================] - 0s 5ms/step - batch: 7.5000 - size: 62.5000 - loss: 0.0026 - add_4_loss: 0.0265 - mul_117_loss: 5.1005e-06 - lr: 0.0010 - time: 0.1209 - loss_weight_0: 0.0990 - loss_weight_1: 1.9010 - loss_gradient_0: 553.8915 - loss_gradient_1: 40.6452\n",
      "Epoch 25/100\n",
      "16/16 [==============================] - 0s 5ms/step - batch: 7.5000 - size: 62.5000 - loss: 0.0025 - add_4_loss: 0.0248 - mul_117_loss: 4.3854e-06 - lr: 0.0010 - time: 0.1202 - loss_weight_0: 0.0990 - loss_weight_1: 1.9010 - loss_gradient_0: 553.8915 - loss_gradient_1: 40.6452\n",
      "Epoch 26/100\n",
      "16/16 [==============================] - 0s 6ms/step - batch: 7.5000 - size: 62.5000 - loss: 0.0023 - add_4_loss: 0.0233 - mul_117_loss: 4.3677e-06 - lr: 0.0010 - time: 0.1408 - loss_weight_0: 0.0990 - loss_weight_1: 1.9010 - loss_gradient_0: 553.8915 - loss_gradient_1: 40.6452\n",
      "Epoch 27/100\n",
      "16/16 [==============================] - 0s 5ms/step - batch: 7.5000 - size: 62.5000 - loss: 0.0022 - add_4_loss: 0.0222 - mul_117_loss: 4.7317e-06 - lr: 0.0010 - time: 0.1026 - loss_weight_0: 0.0990 - loss_weight_1: 1.9010 - loss_gradient_0: 553.8915 - loss_gradient_1: 40.6452\n",
      "Epoch 28/100\n",
      "16/16 [==============================] - 0s 5ms/step - batch: 7.5000 - size: 62.5000 - loss: 0.0022 - add_4_loss: 0.0226 - mul_117_loss: 4.6441e-06 - lr: 0.0010 - time: 0.1215 - loss_weight_0: 0.0990 - loss_weight_1: 1.9010 - loss_gradient_0: 553.8915 - loss_gradient_1: 40.6452\n",
      "Epoch 29/100\n",
      "16/16 [==============================] - 0s 5ms/step - batch: 7.5000 - size: 62.5000 - loss: 0.0021 - add_4_loss: 0.0207 - mul_117_loss: 4.5929e-06 - lr: 0.0010 - time: 0.1236 - loss_weight_0: 0.0990 - loss_weight_1: 1.9010 - loss_gradient_0: 553.8915 - loss_gradient_1: 40.6452\n",
      "Epoch 30/100\n",
      "16/16 [==============================] - 0s 5ms/step - batch: 7.5000 - size: 62.5000 - loss: 0.0019 - add_4_loss: 0.0190 - mul_117_loss: 2.2553e-06 - lr: 0.0010 - time: 0.1173 - loss_weight_0: 0.0990 - loss_weight_1: 1.9010 - loss_gradient_0: 553.8915 - loss_gradient_1: 40.6452\n",
      "\n",
      "+ NTK evaluation time [s]: 0.07054471969604492 \n",
      "\n",
      "+ adaptive_weights at epoch 31: [0.1129659912770418, 1.8870340131933063]\n",
      "Epoch 31/100\n",
      "16/16 [==============================] - 0s 6ms/step - batch: 7.5000 - size: 62.5000 - loss: 0.0021 - add_4_loss: 0.0187 - mul_117_loss: 3.4688e-06 - lr: 0.0010 - time: 0.1695 - loss_weight_0: 0.1130 - loss_weight_1: 1.8870 - loss_gradient_0: 482.1416 - loss_gradient_1: 40.6453\n",
      "Epoch 32/100\n",
      "16/16 [==============================] - 0s 5ms/step - batch: 7.5000 - size: 62.5000 - loss: 0.0021 - add_4_loss: 0.0184 - mul_117_loss: 4.3842e-06 - lr: 0.0010 - time: 0.1084 - loss_weight_0: 0.1130 - loss_weight_1: 1.8870 - loss_gradient_0: 482.1416 - loss_gradient_1: 40.6453\n",
      "Epoch 33/100\n",
      "16/16 [==============================] - 0s 5ms/step - batch: 7.5000 - size: 62.5000 - loss: 0.0018 - add_4_loss: 0.0161 - mul_117_loss: 3.5303e-06 - lr: 0.0010 - time: 0.1202 - loss_weight_0: 0.1130 - loss_weight_1: 1.8870 - loss_gradient_0: 482.1416 - loss_gradient_1: 40.6453\n",
      "Epoch 34/100\n",
      "16/16 [==============================] - 0s 4ms/step - batch: 7.5000 - size: 62.5000 - loss: 0.0018 - add_4_loss: 0.0162 - mul_117_loss: 3.9997e-06 - lr: 0.0010 - time: 0.1092 - loss_weight_0: 0.1130 - loss_weight_1: 1.8870 - loss_gradient_0: 482.1416 - loss_gradient_1: 40.6453\n",
      "Epoch 35/100\n",
      "16/16 [==============================] - 0s 6ms/step - batch: 7.5000 - size: 62.5000 - loss: 0.0017 - add_4_loss: 0.0146 - mul_117_loss: 2.5365e-06 - lr: 0.0010 - time: 0.1419 - loss_weight_0: 0.1130 - loss_weight_1: 1.8870 - loss_gradient_0: 482.1416 - loss_gradient_1: 40.6453\n",
      "Epoch 36/100\n",
      "16/16 [==============================] - 0s 6ms/step - batch: 7.5000 - size: 62.5000 - loss: 0.0016 - add_4_loss: 0.0139 - mul_117_loss: 2.2692e-06 - lr: 0.0010 - time: 0.1285 - loss_weight_0: 0.1130 - loss_weight_1: 1.8870 - loss_gradient_0: 482.1416 - loss_gradient_1: 40.6453\n",
      "Epoch 37/100\n",
      "16/16 [==============================] - 0s 5ms/step - batch: 7.5000 - size: 62.5000 - loss: 0.0016 - add_4_loss: 0.0140 - mul_117_loss: 1.9811e-06 - lr: 0.0010 - time: 0.1200 - loss_weight_0: 0.1130 - loss_weight_1: 1.8870 - loss_gradient_0: 482.1416 - loss_gradient_1: 40.6453\n",
      "Epoch 38/100\n",
      "16/16 [==============================] - 0s 7ms/step - batch: 7.5000 - size: 62.5000 - loss: 0.0015 - add_4_loss: 0.0137 - mul_117_loss: 2.4927e-06 - lr: 0.0010 - time: 0.1577 - loss_weight_0: 0.1130 - loss_weight_1: 1.8870 - loss_gradient_0: 482.1416 - loss_gradient_1: 40.6453\n",
      "Epoch 39/100\n",
      "16/16 [==============================] - 0s 6ms/step - batch: 7.5000 - size: 62.5000 - loss: 0.0014 - add_4_loss: 0.0121 - mul_117_loss: 3.0138e-06 - lr: 0.0010 - time: 0.0990 - loss_weight_0: 0.1130 - loss_weight_1: 1.8870 - loss_gradient_0: 482.1416 - loss_gradient_1: 40.6453\n",
      "Epoch 40/100\n",
      "16/16 [==============================] - 0s 5ms/step - batch: 7.5000 - size: 62.5000 - loss: 0.0013 - add_4_loss: 0.0116 - mul_117_loss: 2.3666e-06 - lr: 0.0010 - time: 0.1272 - loss_weight_0: 0.1130 - loss_weight_1: 1.8870 - loss_gradient_0: 482.1416 - loss_gradient_1: 40.6453\n",
      "\n",
      "+ NTK evaluation time [s]: 0.07657599449157715 \n",
      "\n",
      "+ adaptive_weights at epoch 41: [0.12230981552844584, 1.8776901896869607]\n",
      "Epoch 41/100\n",
      "16/16 [==============================] - 0s 6ms/step - batch: 7.5000 - size: 62.5000 - loss: 0.0013 - add_4_loss: 0.0110 - mul_117_loss: 1.5653e-06 - lr: 0.0010 - time: 0.1715 - loss_weight_0: 0.1223 - loss_weight_1: 1.8777 - loss_gradient_0: 446.5349 - loss_gradient_1: 40.6443\n",
      "Epoch 42/100\n",
      "16/16 [==============================] - 0s 4ms/step - batch: 7.5000 - size: 62.5000 - loss: 0.0013 - add_4_loss: 0.0105 - mul_117_loss: 1.8401e-06 - lr: 0.0010 - time: 0.1174 - loss_weight_0: 0.1223 - loss_weight_1: 1.8777 - loss_gradient_0: 446.5349 - loss_gradient_1: 40.6443\n",
      "Epoch 43/100\n",
      "16/16 [==============================] - 0s 4ms/step - batch: 7.5000 - size: 62.5000 - loss: 0.0012 - add_4_loss: 0.0101 - mul_117_loss: 1.3833e-06 - lr: 0.0010 - time: 0.1167 - loss_weight_0: 0.1223 - loss_weight_1: 1.8777 - loss_gradient_0: 446.5349 - loss_gradient_1: 40.6443\n",
      "Epoch 44/100\n",
      "16/16 [==============================] - 0s 4ms/step - batch: 7.5000 - size: 62.5000 - loss: 0.0012 - add_4_loss: 0.0096 - mul_117_loss: 1.9269e-06 - lr: 0.0010 - time: 0.1172 - loss_weight_0: 0.1223 - loss_weight_1: 1.8777 - loss_gradient_0: 446.5349 - loss_gradient_1: 40.6443\n",
      "Epoch 45/100\n",
      "16/16 [==============================] - 0s 6ms/step - batch: 7.5000 - size: 62.5000 - loss: 0.0012 - add_4_loss: 0.0100 - mul_117_loss: 2.3803e-06 - lr: 0.0010 - time: 0.1962 - loss_weight_0: 0.1223 - loss_weight_1: 1.8777 - loss_gradient_0: 446.5349 - loss_gradient_1: 40.6443\n",
      "Epoch 46/100\n",
      "16/16 [==============================] - 0s 5ms/step - batch: 7.5000 - size: 62.5000 - loss: 0.0011 - add_4_loss: 0.0088 - mul_117_loss: 1.6158e-06 - lr: 0.0010 - time: 0.1202 - loss_weight_0: 0.1223 - loss_weight_1: 1.8777 - loss_gradient_0: 446.5349 - loss_gradient_1: 40.6443\n",
      "Epoch 47/100\n",
      "16/16 [==============================] - 0s 6ms/step - batch: 7.5000 - size: 62.5000 - loss: 0.0010 - add_4_loss: 0.0085 - mul_117_loss: 8.1590e-07 - lr: 0.0010 - time: 0.1415 - loss_weight_0: 0.1223 - loss_weight_1: 1.8777 - loss_gradient_0: 446.5349 - loss_gradient_1: 40.6443\n",
      "Epoch 48/100\n",
      "16/16 [==============================] - 0s 5ms/step - batch: 7.5000 - size: 62.5000 - loss: 9.8432e-04 - add_4_loss: 0.0080 - mul_117_loss: 1.3423e-06 - lr: 0.0010 - time: 0.1044 - loss_weight_0: 0.1223 - loss_weight_1: 1.8777 - loss_gradient_0: 446.5349 - loss_gradient_1: 40.6443\n",
      "Epoch 49/100\n",
      "16/16 [==============================] - 0s 5ms/step - batch: 7.5000 - size: 62.5000 - loss: 9.4843e-04 - add_4_loss: 0.0077 - mul_117_loss: 1.7413e-06 - lr: 0.0010 - time: 0.1230 - loss_weight_0: 0.1223 - loss_weight_1: 1.8777 - loss_gradient_0: 446.5349 - loss_gradient_1: 40.6443\n",
      "Epoch 50/100\n",
      "16/16 [==============================] - 0s 4ms/step - batch: 7.5000 - size: 62.5000 - loss: 8.9495e-04 - add_4_loss: 0.0073 - mul_117_loss: 1.6535e-06 - lr: 0.0010 - time: 0.1162 - loss_weight_0: 0.1223 - loss_weight_1: 1.8777 - loss_gradient_0: 446.5349 - loss_gradient_1: 40.6443\n",
      "\n",
      "+ NTK evaluation time [s]: 0.0821535587310791 \n",
      "\n",
      "+ adaptive_weights at epoch 51: [0.1273074269094502, 1.8726925745806657]\n",
      "Epoch 51/100\n",
      "16/16 [==============================] - 0s 4ms/step - batch: 7.5000 - size: 62.5000 - loss: 8.9422e-04 - add_4_loss: 0.0070 - mul_117_loss: 7.1770e-07 - lr: 0.0010 - time: 0.1576 - loss_weight_0: 0.1273 - loss_weight_1: 1.8727 - loss_gradient_0: 430.8139 - loss_gradient_1: 40.6559\n",
      "Epoch 52/100\n",
      "16/16 [==============================] - 0s 6ms/step - batch: 7.5000 - size: 62.5000 - loss: 8.5057e-04 - add_4_loss: 0.0067 - mul_117_loss: 9.2719e-07 - lr: 0.0010 - time: 0.1535 - loss_weight_0: 0.1273 - loss_weight_1: 1.8727 - loss_gradient_0: 430.8139 - loss_gradient_1: 40.6559\n",
      "Epoch 53/100\n",
      "16/16 [==============================] - 0s 5ms/step - batch: 7.5000 - size: 62.5000 - loss: 8.1828e-04 - add_4_loss: 0.0064 - mul_117_loss: 1.8152e-06 - lr: 0.0010 - time: 0.1155 - loss_weight_0: 0.1273 - loss_weight_1: 1.8727 - loss_gradient_0: 430.8139 - loss_gradient_1: 40.6559\n",
      "Epoch 54/100\n",
      "16/16 [==============================] - 0s 4ms/step - batch: 7.5000 - size: 62.5000 - loss: 7.7365e-04 - add_4_loss: 0.0061 - mul_117_loss: 1.0470e-06 - lr: 0.0010 - time: 0.1202 - loss_weight_0: 0.1273 - loss_weight_1: 1.8727 - loss_gradient_0: 430.8139 - loss_gradient_1: 40.6559\n",
      "Epoch 55/100\n",
      "16/16 [==============================] - 0s 5ms/step - batch: 7.5000 - size: 62.5000 - loss: 7.3907e-04 - add_4_loss: 0.0058 - mul_117_loss: 1.1771e-06 - lr: 0.0010 - time: 0.1235 - loss_weight_0: 0.1273 - loss_weight_1: 1.8727 - loss_gradient_0: 430.8139 - loss_gradient_1: 40.6559\n",
      "Epoch 56/100\n",
      "16/16 [==============================] - 0s 5ms/step - batch: 7.5000 - size: 62.5000 - loss: 7.2070e-04 - add_4_loss: 0.0057 - mul_117_loss: 5.6587e-07 - lr: 0.0010 - time: 0.1277 - loss_weight_0: 0.1273 - loss_weight_1: 1.8727 - loss_gradient_0: 430.8139 - loss_gradient_1: 40.6559\n",
      "Epoch 57/100\n",
      "16/16 [==============================] - 0s 5ms/step - batch: 7.5000 - size: 62.5000 - loss: 6.7017e-04 - add_4_loss: 0.0053 - mul_117_loss: 5.3799e-07 - lr: 0.0010 - time: 0.1196 - loss_weight_0: 0.1273 - loss_weight_1: 1.8727 - loss_gradient_0: 430.8139 - loss_gradient_1: 40.6559\n",
      "Epoch 58/100\n",
      "16/16 [==============================] - 0s 4ms/step - batch: 7.5000 - size: 62.5000 - loss: 6.3863e-04 - add_4_loss: 0.0050 - mul_117_loss: 1.0853e-06 - lr: 0.0010 - time: 0.1168 - loss_weight_0: 0.1273 - loss_weight_1: 1.8727 - loss_gradient_0: 430.8139 - loss_gradient_1: 40.6559\n",
      "Epoch 59/100\n",
      "16/16 [==============================] - 0s 5ms/step - batch: 7.5000 - size: 62.5000 - loss: 6.1732e-04 - add_4_loss: 0.0048 - mul_117_loss: 7.3152e-07 - lr: 0.0010 - time: 0.1326 - loss_weight_0: 0.1273 - loss_weight_1: 1.8727 - loss_gradient_0: 430.8139 - loss_gradient_1: 40.6559\n",
      "Epoch 60/100\n",
      "16/16 [==============================] - 0s 5ms/step - batch: 7.5000 - size: 62.5000 - loss: 5.8530e-04 - add_4_loss: 0.0046 - mul_117_loss: 1.0825e-06 - lr: 0.0010 - time: 0.1308 - loss_weight_0: 0.1273 - loss_weight_1: 1.8727 - loss_gradient_0: 430.8139 - loss_gradient_1: 40.6559\n",
      "\n",
      "+ NTK evaluation time [s]: 0.08438944816589355 \n",
      "\n",
      "+ adaptive_weights at epoch 61: [0.12827298186625713, 1.8717270196238591]\n",
      "Epoch 61/100\n",
      "16/16 [==============================] - 0s 5ms/step - batch: 7.5000 - size: 62.5000 - loss: 5.6055e-04 - add_4_loss: 0.0044 - mul_117_loss: 6.5546e-07 - lr: 0.0010 - time: 0.1663 - loss_weight_0: 0.1283 - loss_weight_1: 1.8717 - loss_gradient_0: 430.0841 - loss_gradient_1: 40.6728\n",
      "Epoch 62/100\n",
      "16/16 [==============================] - 0s 4ms/step - batch: 7.5000 - size: 62.5000 - loss: 5.3549e-04 - add_4_loss: 0.0042 - mul_117_loss: 5.2603e-07 - lr: 0.0010 - time: 0.1208 - loss_weight_0: 0.1283 - loss_weight_1: 1.8717 - loss_gradient_0: 430.0841 - loss_gradient_1: 40.6728\n",
      "Epoch 63/100\n",
      "16/16 [==============================] - 0s 4ms/step - batch: 7.5000 - size: 62.5000 - loss: 5.1341e-04 - add_4_loss: 0.0040 - mul_117_loss: 8.4396e-07 - lr: 0.0010 - time: 0.1176 - loss_weight_0: 0.1283 - loss_weight_1: 1.8717 - loss_gradient_0: 430.0841 - loss_gradient_1: 40.6728\n",
      "Epoch 64/100\n",
      "16/16 [==============================] - 0s 4ms/step - batch: 7.5000 - size: 62.5000 - loss: 5.5265e-04 - add_4_loss: 0.0043 - mul_117_loss: 8.0136e-07 - lr: 0.0010 - time: 0.1184 - loss_weight_0: 0.1283 - loss_weight_1: 1.8717 - loss_gradient_0: 430.0841 - loss_gradient_1: 40.6728\n",
      "Epoch 65/100\n",
      "16/16 [==============================] - 0s 5ms/step - batch: 7.5000 - size: 62.5000 - loss: 4.7245e-04 - add_4_loss: 0.0037 - mul_117_loss: 5.2491e-07 - lr: 0.0010 - time: 0.1289 - loss_weight_0: 0.1283 - loss_weight_1: 1.8717 - loss_gradient_0: 430.0841 - loss_gradient_1: 40.6728\n",
      "Epoch 66/100\n",
      "16/16 [==============================] - 0s 5ms/step - batch: 7.5000 - size: 62.5000 - loss: 4.5129e-04 - add_4_loss: 0.0035 - mul_117_loss: 4.2983e-07 - lr: 0.0010 - time: 0.1194 - loss_weight_0: 0.1283 - loss_weight_1: 1.8717 - loss_gradient_0: 430.0841 - loss_gradient_1: 40.6728\n",
      "Epoch 67/100\n",
      "16/16 [==============================] - 0s 4ms/step - batch: 7.5000 - size: 62.5000 - loss: 4.3655e-04 - add_4_loss: 0.0034 - mul_117_loss: 5.0838e-07 - lr: 0.0010 - time: 0.1133 - loss_weight_0: 0.1283 - loss_weight_1: 1.8717 - loss_gradient_0: 430.0841 - loss_gradient_1: 40.6728\n",
      "Epoch 68/100\n",
      "16/16 [==============================] - 0s 4ms/step - batch: 7.5000 - size: 62.5000 - loss: 4.1899e-04 - add_4_loss: 0.0033 - mul_117_loss: 4.5799e-07 - lr: 0.0010 - time: 0.1211 - loss_weight_0: 0.1283 - loss_weight_1: 1.8717 - loss_gradient_0: 430.0841 - loss_gradient_1: 40.6728\n",
      "Epoch 69/100\n",
      "16/16 [==============================] - 0s 4ms/step - batch: 7.5000 - size: 62.5000 - loss: 4.1464e-04 - add_4_loss: 0.0032 - mul_117_loss: 5.7766e-07 - lr: 0.0010 - time: 0.1171 - loss_weight_0: 0.1283 - loss_weight_1: 1.8717 - loss_gradient_0: 430.0841 - loss_gradient_1: 40.6728\n",
      "Epoch 70/100\n",
      "16/16 [==============================] - 0s 7ms/step - batch: 7.5000 - size: 62.5000 - loss: 3.9658e-04 - add_4_loss: 0.0031 - mul_117_loss: 1.7832e-07 - lr: 0.0010 - time: 0.1610 - loss_weight_0: 0.1283 - loss_weight_1: 1.8717 - loss_gradient_0: 430.0841 - loss_gradient_1: 40.6728\n",
      "\n",
      "+ NTK evaluation time [s]: 0.07172513008117676 \n",
      "\n",
      "+ adaptive_weights at epoch 71: [0.12681409292955106, 1.8731859040902168]\n",
      "Epoch 71/100\n",
      "16/16 [==============================] - 0s 5ms/step - batch: 7.5000 - size: 62.5000 - loss: 3.7140e-04 - add_4_loss: 0.0029 - mul_117_loss: 3.9265e-07 - lr: 0.0010 - time: 0.1508 - loss_weight_0: 0.1268 - loss_weight_1: 1.8732 - loss_gradient_0: 437.6298 - loss_gradient_1: 40.6990\n",
      "Epoch 72/100\n",
      "16/16 [==============================] - 0s 4ms/step - batch: 7.5000 - size: 62.5000 - loss: 3.6735e-04 - add_4_loss: 0.0029 - mul_117_loss: 8.3508e-07 - lr: 0.0010 - time: 0.1203 - loss_weight_0: 0.1268 - loss_weight_1: 1.8732 - loss_gradient_0: 437.6298 - loss_gradient_1: 40.6990\n",
      "Epoch 73/100\n",
      "16/16 [==============================] - 0s 5ms/step - batch: 7.5000 - size: 62.5000 - loss: 3.4646e-04 - add_4_loss: 0.0027 - mul_117_loss: 1.8090e-07 - lr: 0.0010 - time: 0.1234 - loss_weight_0: 0.1268 - loss_weight_1: 1.8732 - loss_gradient_0: 437.6298 - loss_gradient_1: 40.6990\n",
      "Epoch 74/100\n",
      "16/16 [==============================] - 0s 4ms/step - batch: 7.5000 - size: 62.5000 - loss: 3.4461e-04 - add_4_loss: 0.0027 - mul_117_loss: 8.8494e-08 - lr: 0.0010 - time: 0.1125 - loss_weight_0: 0.1268 - loss_weight_1: 1.8732 - loss_gradient_0: 437.6298 - loss_gradient_1: 40.6990\n",
      "Epoch 75/100\n",
      "16/16 [==============================] - 0s 4ms/step - batch: 7.5000 - size: 62.5000 - loss: 3.2868e-04 - add_4_loss: 0.0026 - mul_117_loss: 4.0684e-07 - lr: 0.0010 - time: 0.1194 - loss_weight_0: 0.1268 - loss_weight_1: 1.8732 - loss_gradient_0: 437.6298 - loss_gradient_1: 40.6990\n",
      "Epoch 76/100\n",
      "16/16 [==============================] - 0s 5ms/step - batch: 7.5000 - size: 62.5000 - loss: 3.1840e-04 - add_4_loss: 0.0025 - mul_117_loss: 4.1712e-07 - lr: 0.0010 - time: 0.1267 - loss_weight_0: 0.1268 - loss_weight_1: 1.8732 - loss_gradient_0: 437.6298 - loss_gradient_1: 40.6990\n",
      "Epoch 77/100\n",
      "16/16 [==============================] - 0s 4ms/step - batch: 7.5000 - size: 62.5000 - loss: 3.1665e-04 - add_4_loss: 0.0025 - mul_117_loss: 3.0440e-07 - lr: 0.0010 - time: 0.1184 - loss_weight_0: 0.1268 - loss_weight_1: 1.8732 - loss_gradient_0: 437.6298 - loss_gradient_1: 40.6990\n",
      "Epoch 78/100\n",
      "16/16 [==============================] - 0s 4ms/step - batch: 7.5000 - size: 62.5000 - loss: 3.0482e-04 - add_4_loss: 0.0024 - mul_117_loss: 3.1736e-07 - lr: 0.0010 - time: 0.1177 - loss_weight_0: 0.1268 - loss_weight_1: 1.8732 - loss_gradient_0: 437.6298 - loss_gradient_1: 40.6990\n",
      "Epoch 79/100\n",
      "16/16 [==============================] - 0s 6ms/step - batch: 7.5000 - size: 62.5000 - loss: 2.8670e-04 - add_4_loss: 0.0023 - mul_117_loss: 2.3101e-07 - lr: 0.0010 - time: 0.1399 - loss_weight_0: 0.1268 - loss_weight_1: 1.8732 - loss_gradient_0: 437.6298 - loss_gradient_1: 40.6990\n",
      "Epoch 80/100\n",
      "16/16 [==============================] - 0s 5ms/step - batch: 7.5000 - size: 62.5000 - loss: 2.8016e-04 - add_4_loss: 0.0022 - mul_117_loss: 1.3136e-07 - lr: 0.0010 - time: 0.1055 - loss_weight_0: 0.1268 - loss_weight_1: 1.8732 - loss_gradient_0: 437.6298 - loss_gradient_1: 40.6990\n",
      "\n",
      "+ NTK evaluation time [s]: 0.0804448127746582 \n",
      "\n",
      "+ adaptive_weights at epoch 81: [0.1246118509444752, 1.8753881460752926]\n",
      "Epoch 81/100\n",
      "16/16 [==============================] - 0s 4ms/step - batch: 7.5000 - size: 62.5000 - loss: 2.7092e-04 - add_4_loss: 0.0022 - mul_117_loss: 2.4807e-07 - lr: 0.0010 - time: 0.1541 - loss_weight_0: 0.1246 - loss_weight_1: 1.8754 - loss_gradient_0: 446.4279 - loss_gradient_1: 40.7151\n",
      "Epoch 82/100\n",
      "16/16 [==============================] - 0s 8ms/step - batch: 7.5000 - size: 62.5000 - loss: 2.7020e-04 - add_4_loss: 0.0022 - mul_117_loss: 2.0765e-07 - lr: 0.0010 - time: 0.1877 - loss_weight_0: 0.1246 - loss_weight_1: 1.8754 - loss_gradient_0: 446.4279 - loss_gradient_1: 40.7151\n",
      "Epoch 83/100\n",
      "16/16 [==============================] - 0s 4ms/step - batch: 7.5000 - size: 62.5000 - loss: 2.5479e-04 - add_4_loss: 0.0020 - mul_117_loss: 1.6213e-07 - lr: 0.0010 - time: 0.1095 - loss_weight_0: 0.1246 - loss_weight_1: 1.8754 - loss_gradient_0: 446.4279 - loss_gradient_1: 40.7151\n",
      "Epoch 84/100\n",
      "16/16 [==============================] - 0s 5ms/step - batch: 7.5000 - size: 62.5000 - loss: 2.4542e-04 - add_4_loss: 0.0020 - mul_117_loss: 3.3244e-07 - lr: 0.0010 - time: 0.1250 - loss_weight_0: 0.1246 - loss_weight_1: 1.8754 - loss_gradient_0: 446.4279 - loss_gradient_1: 40.7151\n",
      "Epoch 85/100\n",
      "16/16 [==============================] - 0s 5ms/step - batch: 7.5000 - size: 62.5000 - loss: 2.4932e-04 - add_4_loss: 0.0020 - mul_117_loss: 1.3575e-07 - lr: 0.0010 - time: 0.1306 - loss_weight_0: 0.1246 - loss_weight_1: 1.8754 - loss_gradient_0: 446.4279 - loss_gradient_1: 40.7151\n",
      "Epoch 86/100\n",
      "16/16 [==============================] - 0s 4ms/step - batch: 7.5000 - size: 62.5000 - loss: 2.3368e-04 - add_4_loss: 0.0019 - mul_117_loss: 2.5664e-07 - lr: 0.0010 - time: 0.1183 - loss_weight_0: 0.1246 - loss_weight_1: 1.8754 - loss_gradient_0: 446.4279 - loss_gradient_1: 40.7151\n",
      "Epoch 87/100\n",
      "16/16 [==============================] - 0s 5ms/step - batch: 7.5000 - size: 62.5000 - loss: 2.2580e-04 - add_4_loss: 0.0018 - mul_117_loss: 5.8041e-08 - lr: 0.0010 - time: 0.1242 - loss_weight_0: 0.1246 - loss_weight_1: 1.8754 - loss_gradient_0: 446.4279 - loss_gradient_1: 40.7151\n",
      "Epoch 88/100\n",
      "16/16 [==============================] - 0s 7ms/step - batch: 7.5000 - size: 62.5000 - loss: 2.2200e-04 - add_4_loss: 0.0018 - mul_117_loss: 1.2402e-07 - lr: 0.0010 - time: 0.1740 - loss_weight_0: 0.1246 - loss_weight_1: 1.8754 - loss_gradient_0: 446.4279 - loss_gradient_1: 40.7151\n",
      "Epoch 89/100\n",
      "16/16 [==============================] - 0s 5ms/step - batch: 7.5000 - size: 62.5000 - loss: 2.1502e-04 - add_4_loss: 0.0017 - mul_117_loss: 1.5900e-07 - lr: 0.0010 - time: 0.1131 - loss_weight_0: 0.1246 - loss_weight_1: 1.8754 - loss_gradient_0: 446.4279 - loss_gradient_1: 40.7151\n",
      "Epoch 90/100\n",
      "16/16 [==============================] - 0s 7ms/step - batch: 7.5000 - size: 62.5000 - loss: 2.4583e-04 - add_4_loss: 0.0020 - mul_117_loss: 1.7065e-07 - lr: 0.0010 - time: 0.1519 - loss_weight_0: 0.1246 - loss_weight_1: 1.8754 - loss_gradient_0: 446.4279 - loss_gradient_1: 40.7151\n",
      "\n",
      "+ NTK evaluation time [s]: 0.08000898361206055 \n",
      "\n",
      "+ adaptive_weights at epoch 91: [0.122415686009933, 1.877584313990067]\n",
      "Epoch 91/100\n",
      "16/16 [==============================] - 0s 5ms/step - batch: 7.5000 - size: 62.5000 - loss: 2.0556e-04 - add_4_loss: 0.0017 - mul_117_loss: 1.6238e-07 - lr: 0.0010 - time: 0.1646 - loss_weight_0: 0.1224 - loss_weight_1: 1.8776 - loss_gradient_0: 455.2554 - loss_gradient_1: 40.7331\n",
      "Epoch 92/100\n",
      "16/16 [==============================] - 0s 5ms/step - batch: 7.5000 - size: 62.5000 - loss: 2.0006e-04 - add_4_loss: 0.0016 - mul_117_loss: 7.2907e-08 - lr: 0.0010 - time: 0.1175 - loss_weight_0: 0.1224 - loss_weight_1: 1.8776 - loss_gradient_0: 455.2554 - loss_gradient_1: 40.7331\n",
      "Epoch 93/100\n",
      "16/16 [==============================] - 0s 5ms/step - batch: 7.5000 - size: 62.5000 - loss: 2.2467e-04 - add_4_loss: 0.0018 - mul_117_loss: 9.2842e-08 - lr: 0.0010 - time: 0.1132 - loss_weight_0: 0.1224 - loss_weight_1: 1.8776 - loss_gradient_0: 455.2554 - loss_gradient_1: 40.7331\n",
      "Epoch 94/100\n",
      "16/16 [==============================] - 0s 5ms/step - batch: 7.5000 - size: 62.5000 - loss: 1.8799e-04 - add_4_loss: 0.0015 - mul_117_loss: 3.1485e-07 - lr: 0.0010 - time: 0.1169 - loss_weight_0: 0.1224 - loss_weight_1: 1.8776 - loss_gradient_0: 455.2554 - loss_gradient_1: 40.7331\n",
      "Epoch 95/100\n",
      "16/16 [==============================] - 0s 5ms/step - batch: 7.5000 - size: 62.5000 - loss: 1.9455e-04 - add_4_loss: 0.0016 - mul_117_loss: 5.7992e-08 - lr: 0.0010 - time: 0.1207 - loss_weight_0: 0.1224 - loss_weight_1: 1.8776 - loss_gradient_0: 455.2554 - loss_gradient_1: 40.7331\n",
      "Epoch 96/100\n",
      "16/16 [==============================] - 0s 5ms/step - batch: 7.5000 - size: 62.5000 - loss: 1.7809e-04 - add_4_loss: 0.0014 - mul_117_loss: 2.0805e-07 - lr: 0.0010 - time: 0.1150 - loss_weight_0: 0.1224 - loss_weight_1: 1.8776 - loss_gradient_0: 455.2554 - loss_gradient_1: 40.7331\n",
      "Epoch 97/100\n",
      "16/16 [==============================] - 0s 5ms/step - batch: 7.5000 - size: 62.5000 - loss: 1.7530e-04 - add_4_loss: 0.0014 - mul_117_loss: 4.2313e-08 - lr: 0.0010 - time: 0.1200 - loss_weight_0: 0.1224 - loss_weight_1: 1.8776 - loss_gradient_0: 455.2554 - loss_gradient_1: 40.7331\n",
      "Epoch 98/100\n",
      "16/16 [==============================] - 0s 5ms/step - batch: 7.5000 - size: 62.5000 - loss: 1.7274e-04 - add_4_loss: 0.0014 - mul_117_loss: 1.6684e-07 - lr: 0.0010 - time: 0.1266 - loss_weight_0: 0.1224 - loss_weight_1: 1.8776 - loss_gradient_0: 455.2554 - loss_gradient_1: 40.7331\n",
      "Epoch 99/100\n",
      "16/16 [==============================] - 0s 5ms/step - batch: 7.5000 - size: 62.5000 - loss: 1.6824e-04 - add_4_loss: 0.0014 - mul_117_loss: 1.7622e-07 - lr: 0.0010 - time: 0.1186 - loss_weight_0: 0.1224 - loss_weight_1: 1.8776 - loss_gradient_0: 455.2554 - loss_gradient_1: 40.7331\n",
      "Epoch 100/100\n",
      "16/16 [==============================] - 0s 6ms/step - batch: 7.5000 - size: 62.5000 - loss: 1.6996e-04 - add_4_loss: 0.0014 - mul_117_loss: 9.5001e-08 - lr: 0.0010 - time: 0.1396 - loss_weight_0: 0.1224 - loss_weight_1: 1.8776 - loss_gradient_0: 455.2554 - loss_gradient_1: 40.7331\n"
     ]
    }
   ],
   "source": [
    "history = modelo.train(x_true = input_data, \n",
    "             y_true = target_data, \n",
    "             epochs = 100,\n",
    "             learning_rate = 0.001,\n",
    "             adaptive_weights={'method': 'NTK', 'freq':10, 'use_score':True})"
   ]
  },
  {
   "cell_type": "code",
   "execution_count": 77,
   "metadata": {},
   "outputs": [],
   "source": [
    "valores = np.arange(0,4,0.001)\n",
    "valores_y = u.eval(valores)"
   ]
  },
  {
   "cell_type": "code",
   "execution_count": 78,
   "metadata": {},
   "outputs": [
    {
     "data": {
      "text/plain": [
       "[<matplotlib.lines.Line2D at 0x7fd4c41724c0>]"
      ]
     },
     "execution_count": 78,
     "metadata": {},
     "output_type": "execute_result"
    },
    {
     "data": {
      "image/png": "[encoded data removed]",
      "text/plain": [
       "<Figure size 432x288 with 1 Axes>"
      ]
     },
     "metadata": {
      "needs_background": "light"
     },
     "output_type": "display_data"
    }
   ],
   "source": [
    "plt.plot(valores,valores_y)\n",
    "plt.xlim([0,4])\n",
    "plt.ylim([0,2])\n",
    "plt.plot([0,4],[1,1],'--r')"
   ]
  },
  {
   "cell_type": "markdown",
   "metadata": {},
   "source": [
    "$u_t = Lap (u) + u(1-u/k)$\n",
    "\n",
    "u(x,t) = proporcion de gente en x a tiempo t"
   ]
  }
 ],
 "metadata": {
  "kernelspec": {
   "display_name": "Python 3.8.5 ('base')",
   "language": "python",
   "name": "python3"
  },
  "language_info": {
   "codemirror_mode": {
    "name": "ipython",
    "version": 3
   },
   "file_extension": ".py",
   "mimetype": "text/x-python",
   "name": "python",
   "nbconvert_exporter": "python",
   "pygments_lexer": "ipython3",
   "version": "3.8.5"
  },
  "orig_nbformat": 4,
  "vscode": {
   "interpreter": {
    "hash": "04995ff6e01981977325a4dca113d3298b00de2eefdcaf3870cb66211add4c70"
   }
  }
 },
 "nbformat": 4,
 "nbformat_minor": 2
}
