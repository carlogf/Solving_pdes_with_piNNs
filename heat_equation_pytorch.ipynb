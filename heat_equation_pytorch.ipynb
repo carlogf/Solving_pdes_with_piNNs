{
 "cells": [
  {
   "cell_type": "markdown",
   "metadata": {},
   "source": [
    "# Neural Network that solves the Heat Equation\n",
    " The objective of this notebook is to create a NN that solves the heat equation with a certain initial value and boundary conditions in an interval $[-1,1]$ for a time interval $[0,T]$.\n",
    "\n",
    " * Define the network class with a loss function that solves the heat equation. leave room for initial condition and boundary condition loss terms?\n",
    " * Write functions that train and validate the network.\n",
    " * Write functions that plot the solution and the loss over the pochs\n",
    " * Define the training data in the domain.\n",
    " * Instantiate and train a baseline network. Validate it.\n",
    " * cross val with different architectures"
   ]
  },
  {
   "cell_type": "markdown",
   "metadata": {},
   "source": []
  },
  {
   "cell_type": "code",
   "execution_count": 2,
   "metadata": {},
   "outputs": [],
   "source": [
    "# Torch imports\n",
    "import torch\n",
    "\n",
    "import torch.autograd as autograd # computation graph\n",
    "from torch import Tensor # tensor node in the computation graph\n",
    "import torch.nn as nn # Neural networks\n",
    "import torch.optim as optiom # Optimizer, gradient descen adam, etc.\n",
    "\n",
    "# Other Imports\n",
    "import numpy as np \n",
    "import matplotlib.pyplot as plt\n"
   ]
  },
  {
   "cell_type": "code",
   "execution_count": 3,
   "metadata": {},
   "outputs": [],
   "source": []
  },
  {
   "cell_type": "markdown",
   "metadata": {},
   "source": [
    "## Problem definition\n",
    "We want to solve the heat equation in an interval of $\\mathbb{R}$\n",
    "$$u_t(x,t) = u_{xx}(x,t) \\qquad (x,t) \\in [-1,1]\\times [0,4]$$\n",
    "$$u(x,0) = u_0(x) \\qquad\\forall x\\in [-1,1]  $$\n",
    "and a certain boundary condition.\n",
    "\n",
    "We proprose a Physics Informed Neural Network $\\psi_{NN}(x,t)$ and a loss function composed of 4 terms.\n",
    "\n",
    "* $L_1 = ||\\psi_{NN}(x,0)  - u_0 (x) ||_2$\n",
    "* $L_2 = ||\\psi_{NN}(-1,t)  - 0||_2$\n",
    "* $L_3 = ||\\psi_{NN}(1,t)  - 0||_2$\n",
    "* $L_4 = ||\\psi_{NN}(x,t)_t - \\psi_{NN}(x,t)_{xx}||_2$\n",
    "\n",
    "So our Loss function will be\n",
    "$$L(\\psi) := L_1(\\psi) + L_2(\\psi) + L_3(\\psi) + L_4(\\psi)$$\n",
    "\n",
    "Of course since we can't compute exactly these $L^2$ norms, we will aproximate them with sums over some points of the domain\n",
    "\n",
    "* $L_1 = \\frac{1}{n_1}  \\sum_{k=1}^{n_1} | \\psi_{NN}(x_k,0)  - u_0 (x_k)|^2 $\n",
    "* $L_2 = \\frac{1}{n_2}  \\sum_{k=1}^{n_2} | \\psi_{NN}(-1,t_k) |^2 $\n",
    "* $L_2 = \\frac{1}{n_3}  \\sum_{k=1}^{n_3} | \\psi_{NN}(1,t_k) |^2 $\n",
    "* $L_4 = \\frac{1}{N_4}  \\sum_{i=1}^{n_4} | \\psi_{NN,t}((x,t)_i) - \\psi_{NN,xx} ((x,t)_i) |^2 $\n",
    "\n",
    "For some data points\n",
    "* $\\{x_k \\}_{k=1}^{n_1}$ is a partition of $[-1,1]$. We may choose it randomly or just take a grid with a fixed step.\n",
    "* Same for $\\{t_k \\}_{k=1}^{n_2}$ in $[0,T]$\n",
    "* $\\{(x,t)_i \\}_{i=1}^{n_4}$ are the collocation points inside the domain that we choose randomly\n",
    "\n"
   ]
  },
  {
   "cell_type": "markdown",
   "metadata": {},
   "source": [
    "## Data\n",
    "\n",
    "We will create all of the points we will need, including a small validation data set"
   ]
  },
  {
   "cell_type": "code",
   "execution_count": 44,
   "metadata": {},
   "outputs": [],
   "source": [
    "# We define our domain as $[-1,1] x [0,4]$\n",
    "xm = -1\n",
    "xM = 1\n",
    "t0 = 0 # t siempre empieza en cero\n",
    "T = 4\n",
    "\n",
    "number_of_points = 1000\n",
    "\n",
    "# (X, T)\n",
    "\n",
    "#Initial condition\n",
    "x_init_train = torch.linspace(xm,xM,number_of_points)\n",
    "y_init_train = np.exp(-x_init_train**2 )- 1/np.e\n",
    "\n",
    "# Reshape x\n",
    "x_init_train = torch.reshape(x_init_train, (number_of_points, 1))\n",
    "t_zeros = torch.zeros(number_of_points)\n",
    "t_zeros = torch.reshape(t_zeros, (number_of_points,1))\n",
    "x_init_train = torch.cat((x_init_train,t_zeros),dim = 1)\n",
    "\n",
    "# Reshape y\n",
    "y_init_train = torch.reshape(y_init_train, (number_of_points,1))\n",
    "\n",
    "#Boundary condition\n",
    "t_bc= torch.linspace(t0,T,number_of_points)\n",
    "t_bc = torch.reshape(t_bc, (number_of_points,1))\n",
    "\n",
    "x_bc = torch.ones(number_of_points)\n",
    "x_bc = torch.reshape(x_bc,(number_of_points,1))\n",
    "\n",
    "t_bc1_train = torch.cat((-1*x_bc,t_bc), dim = 1)\n",
    "t_bc2_train = torch.cat((x_bc, t_bc), dim = 1)\n",
    "\n"
   ]
  },
  {
   "cell_type": "code",
   "execution_count": 55,
   "metadata": {},
   "outputs": [],
   "source": [
    "# Colocation points\n",
    "number_of_points = 10000\n",
    "\n",
    "x_coloc_train = xm + (xM-xm)*torch.rand(number_of_points)\n",
    "t_coloc_train = T*torch.rand(number_of_points)\n",
    "\n",
    "x_coloc_train = torch.reshape(x_coloc_train,(number_of_points,1))\n",
    "t_coloc_train = torch.reshape(t_coloc_train,(number_of_points,1))\n",
    "\n",
    "X_coloc_train = torch.cat((x_coloc_train,t_coloc_train), dim = 1)\n",
    "#X_coloc_train[0:10], X_coloc_train.shape\n"
   ]
  },
  {
   "cell_type": "markdown",
   "metadata": {},
   "source": [
    "Tengo mis cuatro conjuntos de puntos para evaluar la loss\n",
    "\n",
    "* x_init_train\n",
    "* y_init_train\n",
    "* t_bc1_train\n",
    "* t_bc2_train\n",
    "* X_coloc_train\n",
    "\n",
    "No hize los vectores de ceros como los y de la boundary ocnidtion, pero ese total lo puedo ahcer despues\n",
    "\n",
    "Me gustaria funcionalizar la manera como hago estos puntos.\n"
   ]
  },
  {
   "cell_type": "code",
   "execution_count": 24,
   "metadata": {},
   "outputs": [],
   "source": [
    "x_init_train = torch.linspace(xm,xM,10)\n",
    "x_init_train = torch.reshape(x_init_train, (10,1))\n",
    "t_init = torch.zeros(10)"
   ]
  },
  {
   "cell_type": "code",
   "execution_count": 27,
   "metadata": {},
   "outputs": [
    {
     "data": {
      "text/plain": [
       "tensor([[0.],\n",
       "        [0.],\n",
       "        [0.],\n",
       "        [0.],\n",
       "        [0.],\n",
       "        [0.],\n",
       "        [0.],\n",
       "        [0.],\n",
       "        [0.],\n",
       "        [0.]])"
      ]
     },
     "execution_count": 27,
     "metadata": {},
     "output_type": "execute_result"
    }
   ],
   "source": [
    "t_init = torch.reshape(t_init,(10,1))\n",
    "t_init"
   ]
  },
  {
   "cell_type": "code",
   "execution_count": 37,
   "metadata": {},
   "outputs": [
    {
     "data": {
      "text/plain": [
       "torch.Size([10, 2])"
      ]
     },
     "execution_count": 37,
     "metadata": {},
     "output_type": "execute_result"
    }
   ],
   "source": [
    "x_train = torch.cat([x_init_train, t_init], dim = 1)\n",
    "x_train.shape"
   ]
  },
  {
   "cell_type": "code",
   "execution_count": null,
   "metadata": {},
   "outputs": [],
   "source": []
  }
 ],
 "metadata": {
  "interpreter": {
   "hash": "357c87595727e860da9fe2ea9cc975d61483bca33d2be81b99ae64f569064e10"
  },
  "kernelspec": {
   "display_name": "Python 3.9.12",
   "language": "python",
   "name": "python3"
  },
  "language_info": {
   "codemirror_mode": {
    "name": "ipython",
    "version": 3
   },
   "file_extension": ".py",
   "mimetype": "text/x-python",
   "name": "python",
   "nbconvert_exporter": "python",
   "pygments_lexer": "ipython3",
   "version": "3.9.12"
  },
  "orig_nbformat": 4
 },
 "nbformat": 4,
 "nbformat_minor": 2
}
