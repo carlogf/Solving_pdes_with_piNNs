{
 "cells": [
  {
   "cell_type": "markdown",
   "metadata": {},
   "source": [
    "# Neural Network that solves the Heat Equation\n",
    " The objective of this notebook is to create a NN that solves the heat equation with a certain initial value and boundary conditions in an interval $[-1,1]$ for a time interval $[0,T]$.\n",
    "\n",
    " * Define the network class with a loss function that solves the heat equation. leave room for initial condition and boundary condition loss terms?\n",
    " * Write functions that train and validate the network.\n",
    " * Write functions that plot the solution and the loss over the pochs\n",
    " * Define the training data in the domain.\n",
    " * Instantiate and train a baseline network. Validate it.\n",
    " * cross val with different architectures"
   ]
  },
  {
   "cell_type": "markdown",
   "metadata": {},
   "source": []
  }
 ],
 "metadata": {
  "language_info": {
   "name": "python"
  },
  "orig_nbformat": 4
 },
 "nbformat": 4,
 "nbformat_minor": 2
}
